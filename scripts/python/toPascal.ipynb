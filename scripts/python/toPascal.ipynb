{
	"cells": [
		{
			"cell_type": "code",
			"execution_count": 4,
			"metadata": {
				"collapsed": true,
				"pycharm": {
					"name": "#%%\n"
				}
			},
			"outputs": [],
			"source": [
				"import json\n",
				"import os"
			]
		},
		{
			"cell_type": "code",
			"execution_count": 10,
			"outputs": [
				{
					"data": {
						"text/plain": "'utf-8'"
					},
					"execution_count": 10,
					"metadata": {},
					"output_type": "execute_result"
				}
			],
			"source": [
				"import chardet\n",
				"\n",
				"chardet.detect(open(\"../data/EN/Character/albedo.json\", \"rb\").read())['encoding']"
			],
			"metadata": {
				"collapsed": false,
				"pycharm": {
					"name": "#%%\n"
				}
			}
		},
		{
			"cell_type": "code",
			"execution_count": 4,
			"outputs": [
				{
					"data": {
						"text/plain": "{'_id': 10000038,\n 'id': 'albedo',\n 'name': 'Albedo',\n 'title': 'Kreideprinz',\n 'description': 'A genius known as the Kreideprinz, he is the Chief Alchemist and Captain of the Investigation Team of the Knights of Favonius.',\n 'weapon_type': 'Sword',\n 'element': 'Geo',\n 'gender': 'Male',\n 'substat': 'Geo DMG Bonus',\n 'affiliation': 'Knights of Favonius',\n 'region': 'Mondstadt',\n 'rarity': 5,\n 'birthday': [13, 9],\n 'constellation': 'Princeps Cretaceus',\n 'domain': 'Forsaken Rift',\n 'cv': {'english': 'Khoi Dao',\n  'chinese': 'Mace',\n  'japanese': '野島健児',\n  'korean': 'Kim Myeong-joon'},\n 'skills': [{'_id': 10386,\n   'id': 'normalAttackFavoniusBladeworkWeiss',\n   'name': 'Normal Attack: Favonius Bladework - Weiss',\n   'description': 'Normal AttackPerforms up to 5 rapid strikes.Charged AttackConsumes a certain amount of Stamina to unleash 2 rapid sword strikes.Plunging AttackPlunges from mid-air to strike the ground below, damaging opponents along the path and dealing AoE DMG upon impact.',\n   'info': '',\n   'attributes': [{'label': '1-Hit DMG',\n     'values': ['36.74%',\n      '39.73%',\n      '42.72%',\n      '46.99%',\n      '49.98%',\n      '53.4%',\n      '58.1%',\n      '62.8%',\n      '67.5%',\n      '72.62%',\n      '78.5%',\n      '85.41%',\n      '92.31%',\n      '99.22%',\n      '106.76%']},\n    {'label': '2-Hit DMG',\n     'values': ['36.74%',\n      '39.73%',\n      '42.72%',\n      '46.99%',\n      '49.98%',\n      '53.4%',\n      '58.1%',\n      '62.8%',\n      '67.5%',\n      '72.62%',\n      '78.5%',\n      '85.41%',\n      '92.31%',\n      '99.22%',\n      '106.76%']},\n    {'label': '3-Hit DMG',\n     'values': ['47.45%',\n      '51.32%',\n      '55.18%',\n      '60.7%',\n      '64.56%',\n      '68.98%',\n      '75.04%',\n      '81.11%',\n      '87.18%',\n      '93.81%',\n      '101.39%',\n      '110.32%',\n      '119.24%',\n      '128.16%',\n      '137.89%']},\n    {'label': '4-Hit DMG',\n     'values': ['49.75%',\n      '53.8%',\n      '57.85%',\n      '63.63%',\n      '67.68%',\n      '72.31%',\n      '78.68%',\n      '85.04%',\n      '91.4%',\n      '98.34%',\n      '106.3%',\n      '115.65%',\n      '125.01%',\n      '134.36%',\n      '144.57%']},\n    {'label': '5-Hit DMG',\n     'values': ['62.07%',\n      '67.13%',\n      '72.18%',\n      '79.4%',\n      '84.45%',\n      '90.22%',\n      '98.16%',\n      '106.1%',\n      '114.04%',\n      '122.7%',\n      '132.63%',\n      '144.3%',\n      '155.97%',\n      '167.64%',\n      '180.38%']},\n    {'label': 'Charged Attack DMG',\n     'values': ['47.3% + 60.2%',\n      '51.15% + 65.1%',\n      '55% + 70%',\n      '60.5% + 77%',\n      '64.35% + 81.9%',\n      '68.75% + 87.5%',\n      '74.8% + 95.2%',\n      '80.85% + 102.9%',\n      '86.9% + 110.6%',\n      '93.5% + 119%',\n      '101.06% + 128.62%',\n      '109.96% + 139.94%',\n      '118.85% + 151.26%',\n      '127.74% + 162.58%',\n      '137.44% + 174.93%']},\n    {'label': 'Charged Attack Stamina Cost',\n     'values': ['20',\n      '20',\n      '20',\n      '20',\n      '20',\n      '20',\n      '20',\n      '20',\n      '20',\n      '20',\n      '20',\n      '20',\n      '20',\n      '20',\n      '20']},\n    {'label': 'Plunge DMG',\n     'values': ['63.93%',\n      '69.14%',\n      '74.34%',\n      '81.77%',\n      '86.98%',\n      '92.93%',\n      '101.1%',\n      '109.28%',\n      '117.46%',\n      '126.38%',\n      '135.3%',\n      '144.22%',\n      '153.14%',\n      '162.06%',\n      '170.98%']},\n    {'label': 'Low/High Plunge DMG',\n     'values': ['127.84% / 159.68%',\n      '138.24% / 172.67%',\n      '148.65% / 185.67%',\n      '163.51% / 204.24%',\n      '173.92% / 217.23%',\n      '185.81% / 232.09%',\n      '202.16% / 252.51%',\n      '218.51% / 272.93%',\n      '234.86% / 293.36%',\n      '252.7% / 315.64%',\n      '270.54% / 337.92%',\n      '288.38% / 360.2%',\n      '306.22% / 382.48%',\n      '324.05% / 404.76%',\n      '341.89% / 427.04%']}]},\n  {'_id': 10387,\n   'id': 'abiogenesisSolarIsotoma',\n   'name': 'Abiogenesis: Solar Isotoma',\n   'description': \"Albedo creates a Solar Isotoma using alchemy, which deals AoE Geo DMG on appearance.Solar Isotomahas the following properties:·When opponents within the Solar Isotoma field take DMG, the Solar Isotoma will generate Transient Blossoms which deal AoE Geo DMG. DMG dealt scales off Albedo's DEF. ·Transient Blossoms can only be generated once every 2s.·When a character is located at the locus of the Solar Isotoma, the Solar Isotoma will accumulate Geo power to form a crystallized platform that lifts the character up to a certain height. Only one crystallized platform can exist at a time.·Solar Isotoma is considered a Geo construct. Only one Solar Isotoma created by Albedo himself can exist at a time. Hold to designate the location of the skill.\",\n   'info': 'This Geo bloom has an unusual property mirrored in the aim of alchemy. To rise from the earth, soar into the sky, and become the sun.',\n   'attributes': [{'label': 'Skill DMG',\n     'values': ['130.4%',\n      '140.18%',\n      '149.96%',\n      '163%',\n      '172.78%',\n      '182.56%',\n      '195.6%',\n      '208.64%',\n      '221.68%',\n      '234.72%',\n      '247.76%',\n      '260.8%',\n      '277.1%',\n      '293.4%',\n      '309.7%']},\n    {'label': 'Transient Blossom DMG',\n     'values': ['133.6% DEF',\n      '143.62% DEF',\n      '153.64% DEF',\n      '167% DEF',\n      '177.02% DEF',\n      '187.04% DEF',\n      '200.4% DEF',\n      '213.76% DEF',\n      '227.12% DEF',\n      '240.48% DEF',\n      '253.84% DEF',\n      '267.2% DEF',\n      '283.9% DEF',\n      '300.6% DEF',\n      '317.3% DEF']},\n    {'label': 'Duration',\n     'values': ['30s',\n      '30s',\n      '30s',\n      '30s',\n      '30s',\n      '30s',\n      '30s',\n      '30s',\n      '30s',\n      '30s',\n      '30s',\n      '30s',\n      '30s',\n      '30s',\n      '30s']},\n    {'label': 'Skill CD',\n     'values': ['4s',\n      '4s',\n      '4s',\n      '4s',\n      '4s',\n      '4s',\n      '4s',\n      '4s',\n      '4s',\n      '4s',\n      '4s',\n      '4s',\n      '4s',\n      '4s',\n      '4s']}]},\n  {'_id': 10388,\n   'id': 'riteOfProgenitureTectonicTide',\n   'name': 'Rite of Progeniture: Tectonic Tide',\n   'description': \"Under Albedo's command, Geo crystals surge and burst forth, dealing AoE Geo DMG in front of him.If a Solar Isotoma created by Albedo himself is on the field, 7 Fatal Blossoms will be generated in the Solar Isotoma field, bursting violently into bloom and dealing AoE Geo DMG.Tectonic Tide DMG and Fatal Blossom DMG will not generate Transient Blossoms.\",\n   'info': \"Under the Kreideprinz's command, the tectonic tide of creation seethes into life.\",\n   'attributes': [{'label': 'Burst DMG',\n     'values': ['367.2%',\n      '394.74%',\n      '422.28%',\n      '459%',\n      '486.54%',\n      '514.08%',\n      '550.8%',\n      '587.52%',\n      '624.24%',\n      '660.96%',\n      '697.68%',\n      '734.4%',\n      '780.3%',\n      '826.2%',\n      '872.1%']},\n    {'label': 'Fatal Blossom DMG',\n     'values': ['72% each',\n      '77.4% each',\n      '82.8% each',\n      '90% each',\n      '95.4% each',\n      '100.8% each',\n      '108% each',\n      '115.2% each',\n      '122.4% each',\n      '129.6% each',\n      '136.8% each',\n      '144% each',\n      '153% each',\n      '162% each',\n      '171% each']},\n    {'label': 'CD',\n     'values': ['12s',\n      '12s',\n      '12s',\n      '12s',\n      '12s',\n      '12s',\n      '12s',\n      '12s',\n      '12s',\n      '12s',\n      '12s',\n      '12s',\n      '12s',\n      '12s',\n      '12s']},\n    {'label': 'Energy Cost',\n     'values': ['40',\n      '40',\n      '40',\n      '40',\n      '40',\n      '40',\n      '40',\n      '40',\n      '40',\n      '40',\n      '40',\n      '40',\n      '40',\n      '40',\n      '40']}]}],\n 'passives': [{'id': 'calciteMight',\n   'name': 'Calcite Might',\n   'description': 'Transient Blossoms generated by Abiogenesis: Solar Isotoma deal 25% more DMG to opponents whose HP is below 50%.',\n   'level': 1},\n  {'id': 'homuncularNature',\n   'name': 'Homuncular Nature',\n   'description': 'Using Rite of Progeniture: Tectonic Tide increases the Elemental Mastery of nearby party members by 125 for 10s.',\n   'level': 4},\n  {'id': 'flashOfGenius',\n   'name': 'Flash of Genius',\n   'description': 'When Albedo crafts Weapon Ascension Materials, he has a 10% chance to receive double the product.',\n   'level': 0}],\n 'constellations': [{'_id': 381,\n   'id': 'flowerOfEden',\n   'name': 'Flower of Eden',\n   'description': \"Transient Blossoms generated by Albedo's Abiogenesis: Solar Isotoma regenerate 1.2 Energy for Albedo.\",\n   'level': 1},\n  {'_id': 382,\n   'id': 'openingOfPhanerozoic',\n   'name': 'Opening of Phanerozoic',\n   'description': \"Transient Blossoms generated by Abiogenesis: Solar Isotoma grant Albedo Fatal Reckoning for 30s:·Unleashing Rite of Progeniture: Tectonic Tide consumes all stacks of Fatal Reckoning. Each stack of Fatal Reckoning consumed increases the DMG dealt by Fatal Blossoms and Rite of Progeniture: Tectonic Tide's burst DMG by 30% of Albedo's DEF.·This effect stacks up to 4 times.\",\n   'level': 2},\n  {'_id': 383,\n   'id': 'graceOfHelios',\n   'name': 'Grace of Helios',\n   'description': 'Increases the Level of Abiogenesis: Solar Isotoma by 3.Maximum upgrade level is 15.',\n   'level': 3},\n  {'_id': 384,\n   'id': 'descentOfDivinity',\n   'name': 'Descent of Divinity',\n   'description': 'Active party members within the Solar Isotoma field have their Plunging Attack DMG increased by 30%.',\n   'level': 4},\n  {'_id': 385,\n   'id': 'tideOfHadean',\n   'name': 'Tide of Hadean',\n   'description': 'Increases the Level of Rite of Progeniture: Tectonic Tide by 3.Maximum upgrade level is 15.',\n   'level': 5},\n  {'_id': 386,\n   'id': 'dustOfPurification',\n   'name': 'Dust of Purification',\n   'description': 'Active party members within the Solar Isotoma field who are protected by a shield created by Crystallize have their DMG increased by 17%.',\n   'level': 6}],\n 'ascension': [{'level': [1],\n   'stats': [{'label': 'Ascend', 'values': ['-', 1]},\n    {'label': 'Base HP', 'values': ['-', '1030']},\n    {'label': 'Base ATK', 'values': ['-', '20']},\n    {'label': 'Base DEF', 'values': ['-', '68']},\n    {'label': 'Geo DMG Bonus', 'values': ['-', '0.0%']}]},\n  {'level': [20],\n   'stats': [{'label': 'Ascend', 'values': [0, 1]},\n    {'label': 'Base HP', 'values': ['2671', '3554']},\n    {'label': 'Base ATK', 'values': ['51', '67']},\n    {'label': 'Base DEF', 'values': ['177', '235']},\n    {'label': 'Geo DMG Bonus', 'values': ['0.0%', '0.0%']}]},\n  {'level': [40],\n   'cost': 20000,\n   'stats': [{'label': 'Ascend', 'values': [1, 2]},\n    {'label': 'Base HP', 'values': ['5317', '5944']},\n    {'label': 'Base ATK', 'values': ['101', '113']},\n    {'label': 'Base DEF', 'values': ['352', '394']},\n    {'label': 'Geo DMG Bonus', 'values': ['0.0%', '7.2%']}],\n   'mat1': {'_id': 104171,\n    'id': 'prithivaTopazSliver',\n    'name': 'Prithiva Topaz Sliver',\n    'amount': 1,\n    'rarity': 2},\n   'mat3': {'_id': 100023,\n    'id': 'cecilia',\n    'name': 'Cecilia',\n    'amount': 3,\n    'rarity': 1},\n   'mat4': {'_id': 112008,\n    'id': 'diviningScroll',\n    'name': 'Divining Scroll',\n    'amount': 3,\n    'rarity': 1}},\n  {'level': [50],\n   'cost': 40000,\n   'stats': [{'label': 'Ascend', 'values': [2, 3]},\n    {'label': 'Base HP', 'values': ['6839', '7675']},\n    {'label': 'Base ATK', 'values': ['130', '146']},\n    {'label': 'Base DEF', 'values': ['453', '508']},\n    {'label': 'Geo DMG Bonus', 'values': ['7.2%', '14.4%']}],\n   'mat1': {'_id': 104172,\n    'id': 'prithivaTopazFragment',\n    'name': 'Prithiva Topaz Fragment',\n    'amount': 3,\n    'rarity': 3},\n   'mat2': {'_id': 113009,\n    'id': 'basaltPillar',\n    'name': 'Basalt Pillar',\n    'amount': 2,\n    'rarity': 4},\n   'mat3': {'_id': 100023,\n    'id': 'cecilia',\n    'name': 'Cecilia',\n    'amount': 10,\n    'rarity': 1},\n   'mat4': {'_id': 112008,\n    'id': 'diviningScroll',\n    'name': 'Divining Scroll',\n    'amount': 15,\n    'rarity': 1}},\n  {'level': [60],\n   'cost': 60000,\n   'stats': [{'label': 'Ascend', 'values': [3, 4]},\n    {'label': 'Base HP', 'values': ['8579', '9207']},\n    {'label': 'Base ATK', 'values': ['163', '175']},\n    {'label': 'Base DEF', 'values': ['568', '610']},\n    {'label': 'Geo DMG Bonus', 'values': ['14.4%', '14.4%']}],\n   'mat1': {'_id': 104172,\n    'id': 'prithivaTopazFragment',\n    'name': 'Prithiva Topaz Fragment',\n    'amount': 6,\n    'rarity': 3},\n   'mat2': {'_id': 113009,\n    'id': 'basaltPillar',\n    'name': 'Basalt Pillar',\n    'amount': 4,\n    'rarity': 4},\n   'mat3': {'_id': 100023,\n    'id': 'cecilia',\n    'name': 'Cecilia',\n    'amount': 20,\n    'rarity': 1},\n   'mat4': {'_id': 112009,\n    'id': 'sealedScroll',\n    'name': 'Sealed Scroll',\n    'amount': 12,\n    'rarity': 2}},\n  {'level': [70],\n   'cost': 80000,\n   'stats': [{'label': 'Ascend', 'values': [4, 5]},\n    {'label': 'Base HP', 'values': ['10119', '10746']},\n    {'label': 'Base ATK', 'values': ['192', '204']},\n    {'label': 'Base DEF', 'values': ['670', '712']},\n    {'label': 'Geo DMG Bonus', 'values': ['14.4%', '21.6%']}],\n   'mat1': {'_id': 104173,\n    'id': 'prithivaTopazChunk',\n    'name': 'Prithiva Topaz Chunk',\n    'amount': 3,\n    'rarity': 4},\n   'mat2': {'_id': 113009,\n    'id': 'basaltPillar',\n    'name': 'Basalt Pillar',\n    'amount': 8,\n    'rarity': 4},\n   'mat3': {'_id': 100023,\n    'id': 'cecilia',\n    'name': 'Cecilia',\n    'amount': 30,\n    'rarity': 1},\n   'mat4': {'_id': 112009,\n    'id': 'sealedScroll',\n    'name': 'Sealed Scroll',\n    'amount': 18,\n    'rarity': 2}},\n  {'level': [80],\n   'cost': 100000,\n   'stats': [{'label': 'Ascend', 'values': [5, 6]},\n    {'label': 'Base HP', 'values': ['11669', '12296']},\n    {'label': 'Base ATK', 'values': ['222', '233']},\n    {'label': 'Base DEF', 'values': ['773', '815']},\n    {'label': 'Geo DMG Bonus', 'values': ['21.6%', '28.8%']}],\n   'mat1': {'_id': 104173,\n    'id': 'prithivaTopazChunk',\n    'name': 'Prithiva Topaz Chunk',\n    'amount': 6,\n    'rarity': 4},\n   'mat2': {'_id': 113009,\n    'id': 'basaltPillar',\n    'name': 'Basalt Pillar',\n    'amount': 12,\n    'rarity': 4},\n   'mat3': {'_id': 100023,\n    'id': 'cecilia',\n    'name': 'Cecilia',\n    'amount': 45,\n    'rarity': 1},\n   'mat4': {'_id': 112010,\n    'id': 'forbiddenCurseScroll',\n    'name': 'Forbidden Curse Scroll',\n    'amount': 12,\n    'rarity': 3}},\n  {'level': [90],\n   'cost': 120000,\n   'stats': [{'label': 'Ascend', 'values': [6, 7]},\n    {'label': 'Base HP', 'values': ['13226', '13226']},\n    {'label': 'Base ATK', 'values': ['251', '251']},\n    {'label': 'Base DEF', 'values': ['876', '876']},\n    {'label': 'Geo DMG Bonus', 'values': ['28.8%', '28.8%']}],\n   'mat1': {'_id': 104174,\n    'id': 'prithivaTopazGemstone',\n    'name': 'Prithiva Topaz Gemstone',\n    'amount': 6,\n    'rarity': 5},\n   'mat2': {'_id': 113009,\n    'id': 'basaltPillar',\n    'name': 'Basalt Pillar',\n    'amount': 20,\n    'rarity': 4},\n   'mat3': {'_id': 100023,\n    'id': 'cecilia',\n    'name': 'Cecilia',\n    'amount': 60,\n    'rarity': 1},\n   'mat4': {'_id': 112010,\n    'id': 'forbiddenCurseScroll',\n    'name': 'Forbidden Curse Scroll',\n    'amount': 24,\n    'rarity': 3}}],\n 'talent_materials': [{'level': 2,\n   'cost': 12500,\n   'items': [{'_id': 104307,\n     'id': 'teachingsOfBallad',\n     'name': 'Teachings of Ballad',\n     'amount': 3,\n     'rarity': 2},\n    {'_id': 112008,\n     'id': 'diviningScroll',\n     'name': 'Divining Scroll',\n     'amount': 6,\n     'rarity': 1}]},\n  {'level': 3,\n   'cost': 17500,\n   'items': [{'_id': 104308,\n     'id': 'guideToBallad',\n     'name': 'Guide to Ballad',\n     'amount': 2,\n     'rarity': 3},\n    {'_id': 112009,\n     'id': 'sealedScroll',\n     'name': 'Sealed Scroll',\n     'amount': 3,\n     'rarity': 2}]},\n  {'level': 4,\n   'cost': 25000,\n   'items': [{'_id': 104308,\n     'id': 'guideToBallad',\n     'name': 'Guide to Ballad',\n     'amount': 4,\n     'rarity': 3},\n    {'_id': 112009,\n     'id': 'sealedScroll',\n     'name': 'Sealed Scroll',\n     'amount': 4,\n     'rarity': 2}]},\n  {'level': 5,\n   'cost': 30000,\n   'items': [{'_id': 104308,\n     'id': 'guideToBallad',\n     'name': 'Guide to Ballad',\n     'amount': 6,\n     'rarity': 3},\n    {'_id': 112009,\n     'id': 'sealedScroll',\n     'name': 'Sealed Scroll',\n     'amount': 6,\n     'rarity': 2}]},\n  {'level': 6,\n   'cost': 37500,\n   'items': [{'_id': 104308,\n     'id': 'guideToBallad',\n     'name': 'Guide to Ballad',\n     'amount': 9,\n     'rarity': 3},\n    {'_id': 112009,\n     'id': 'sealedScroll',\n     'name': 'Sealed Scroll',\n     'amount': 9,\n     'rarity': 2}]},\n  {'level': 7,\n   'cost': 120000,\n   'items': [{'_id': 104309,\n     'id': 'philosophiesOfBallad',\n     'name': 'Philosophies of Ballad',\n     'amount': 4,\n     'rarity': 4},\n    {'_id': 112010,\n     'id': 'forbiddenCurseScroll',\n     'name': 'Forbidden Curse Scroll',\n     'amount': 4,\n     'rarity': 3},\n    {'_id': 113013,\n     'id': 'tuskOfMonocerosCaeli',\n     'name': 'Tusk of Monoceros Caeli',\n     'amount': 1,\n     'rarity': 5}]},\n  {'level': 8,\n   'cost': 260000,\n   'items': [{'_id': 104309,\n     'id': 'philosophiesOfBallad',\n     'name': 'Philosophies of Ballad',\n     'amount': 6,\n     'rarity': 4},\n    {'_id': 112010,\n     'id': 'forbiddenCurseScroll',\n     'name': 'Forbidden Curse Scroll',\n     'amount': 6,\n     'rarity': 3},\n    {'_id': 113013,\n     'id': 'tuskOfMonocerosCaeli',\n     'name': 'Tusk of Monoceros Caeli',\n     'amount': 1,\n     'rarity': 5}]},\n  {'level': 9,\n   'cost': 450000,\n   'items': [{'_id': 104309,\n     'id': 'philosophiesOfBallad',\n     'name': 'Philosophies of Ballad',\n     'amount': 12,\n     'rarity': 4},\n    {'_id': 112010,\n     'id': 'forbiddenCurseScroll',\n     'name': 'Forbidden Curse Scroll',\n     'amount': 9,\n     'rarity': 3},\n    {'_id': 113013,\n     'id': 'tuskOfMonocerosCaeli',\n     'name': 'Tusk of Monoceros Caeli',\n     'amount': 2,\n     'rarity': 5}]},\n  {'level': 10,\n   'cost': 700000,\n   'items': [{'_id': 104309,\n     'id': 'philosophiesOfBallad',\n     'name': 'Philosophies of Ballad',\n     'amount': 16,\n     'rarity': 4},\n    {'_id': 112010,\n     'id': 'forbiddenCurseScroll',\n     'name': 'Forbidden Curse Scroll',\n     'amount': 12,\n     'rarity': 3},\n    {'_id': 113013,\n     'id': 'tuskOfMonocerosCaeli',\n     'name': 'Tusk of Monoceros Caeli',\n     'amount': 2,\n     'rarity': 5},\n    {'_id': 104319,\n     'id': 'crownOfInsight',\n     'name': 'Crown of Insight',\n     'amount': 1,\n     'rarity': 5}]}]}"
					},
					"execution_count": 4,
					"metadata": {},
					"output_type": "execute_result"
				}
			],
			"source": [
				"with open(\"../data/EN/Character/albedo.json\", \"r\", encoding=\"utf-8\") as f:\n",
				"    albedo = json.load(f)\n",
				"albedo"
			],
			"metadata": {
				"collapsed": false,
				"pycharm": {
					"name": "#%%\n"
				}
			}
		},
		{
			"cell_type": "code",
			"execution_count": 20,
			"outputs": [
				{
					"name": "stdout",
					"output_type": "stream",
					"text": [
						"albedo\n",
						"['normal_attack_favonius_bladework_weiss', 'abiogenesis_solar_isotoma', 'rite_of_progeniture_tectonic_tide']\n",
						"['calcite_might', 'homuncular_nature', 'flash_of_genius']\n",
						"['flower_of_eden', 'opening_of_phanerozoic', 'grace_of_helios', 'descent_of_divinity', 'tide_of_hadean', 'dust_of_purification']\n",
						"prithiva_topaz_sliver\n",
						"cecilia\n",
						"divining_scroll\n",
						"prithiva_topaz_fragment\n",
						"basalt_pillar\n",
						"cecilia\n",
						"divining_scroll\n",
						"prithiva_topaz_fragment\n",
						"basalt_pillar\n",
						"cecilia\n",
						"sealed_scroll\n",
						"prithiva_topaz_chunk\n",
						"basalt_pillar\n",
						"cecilia\n",
						"sealed_scroll\n",
						"prithiva_topaz_chunk\n",
						"basalt_pillar\n",
						"cecilia\n",
						"forbidden_curse_scroll\n",
						"prithiva_topaz_gemstone\n",
						"basalt_pillar\n",
						"cecilia\n",
						"forbidden_curse_scroll\n",
						"['teachings_of_ballad', 'divining_scroll']\n",
						"['guide_to_ballad', 'sealed_scroll']\n",
						"['guide_to_ballad', 'sealed_scroll']\n",
						"['guide_to_ballad', 'sealed_scroll']\n",
						"['guide_to_ballad', 'sealed_scroll']\n",
						"['philosophies_of_ballad', 'forbidden_curse_scroll', 'tusk_of_monoceros_caeli']\n",
						"['philosophies_of_ballad', 'forbidden_curse_scroll', 'tusk_of_monoceros_caeli']\n",
						"['philosophies_of_ballad', 'forbidden_curse_scroll', 'tusk_of_monoceros_caeli']\n",
						"['philosophies_of_ballad', 'forbidden_curse_scroll', 'tusk_of_monoceros_caeli', 'crown_of_insight']\n"
					]
				}
			],
			"source": [
				"# id\n",
				"# skills --> list --> dict id for norm, skill, burst,\n",
				"# passive id\n",
				"# constellation --> list --> dict id for each c\n",
				"# ascension mat id\n",
				"# talent mat id\n",
				"print(albedo[\"id\"])\n",
				"print([skill[\"id\"] for skill in albedo[\"skills\"]])\n",
				"print([passive[\"id\"] for passive in albedo[\"passives\"]])\n",
				"print([const[\"id\"] for const in albedo[\"constellations\"]])\n",
				"for asc in albedo[\"ascension\"]:\n",
				"    for key in asc:\n",
				"        if \"mat\" in key:\n",
				"            print(asc[key][\"id\"])\n",
				"for tal in albedo[\"talent_materials\"]:\n",
				"    print([item[\"id\"] for item in tal[\"items\"]])"
			],
			"metadata": {
				"collapsed": false,
				"pycharm": {
					"name": "#%%\n"
				}
			}
		},
		{
			"cell_type": "code",
			"execution_count": 9,
			"outputs": [
				{
					"name": "stdout",
					"output_type": "stream",
					"text": [
						"Albedo\n",
						"NormalAttackFavoniusBladeworkWeiss\n",
						"TestPascal\n"
					]
				}
			],
			"source": [
				"def pascal(str):\n",
				"    words = str.split(\"_\")\n",
				"    if len(words) == 1:\n",
				"        return str[0].capitalize() + str[1:]\n",
				"    return \"\".join(word.capitalize() for word in words)\n",
				"\n",
				"print(pascal(\"albedo\"))\n",
				"print(pascal(\"normal_attack_favonius_bladework_weiss\"))\n",
				"print(pascal(\"TestPascal\"))"
			],
			"metadata": {
				"collapsed": false,
				"pycharm": {
					"name": "#%%\n"
				}
			}
		},
		{
			"cell_type": "code",
			"execution_count": 28,
			"outputs": [
				{
					"data": {
						"text/plain": "{'_id': 10000038,\n 'id': 'albedo',\n 'name': 'Albedo',\n 'title': 'Kreideprinz',\n 'description': 'A genius known as the Kreideprinz, he is the Chief Alchemist and Captain of the Investigation Team of the Knights of Favonius.',\n 'weapon_type': 'Sword',\n 'element': 'Geo',\n 'gender': 'Male',\n 'substat': 'Geo DMG Bonus',\n 'affiliation': 'Knights of Favonius',\n 'region': 'Mondstadt',\n 'rarity': 5,\n 'birthday': [13, 9],\n 'constellation': 'Princeps Cretaceus',\n 'domain': 'Forsaken Rift',\n 'cv': {'english': 'Khoi Dao',\n  'chinese': 'Mace',\n  'japanese': '野島健児',\n  'korean': 'Kim Myeong-joon'},\n 'skills': [{'_id': 10386,\n   'id': 'normalAttackFavoniusBladeworkWeiss',\n   'name': 'Normal Attack: Favonius Bladework - Weiss',\n   'description': 'Normal AttackPerforms up to 5 rapid strikes.Charged AttackConsumes a certain amount of Stamina to unleash 2 rapid sword strikes.Plunging AttackPlunges from mid-air to strike the ground below, damaging opponents along the path and dealing AoE DMG upon impact.',\n   'info': '',\n   'attributes': [{'label': '1-Hit DMG',\n     'values': ['36.74%',\n      '39.73%',\n      '42.72%',\n      '46.99%',\n      '49.98%',\n      '53.4%',\n      '58.1%',\n      '62.8%',\n      '67.5%',\n      '72.62%',\n      '78.5%',\n      '85.41%',\n      '92.31%',\n      '99.22%',\n      '106.76%']},\n    {'label': '2-Hit DMG',\n     'values': ['36.74%',\n      '39.73%',\n      '42.72%',\n      '46.99%',\n      '49.98%',\n      '53.4%',\n      '58.1%',\n      '62.8%',\n      '67.5%',\n      '72.62%',\n      '78.5%',\n      '85.41%',\n      '92.31%',\n      '99.22%',\n      '106.76%']},\n    {'label': '3-Hit DMG',\n     'values': ['47.45%',\n      '51.32%',\n      '55.18%',\n      '60.7%',\n      '64.56%',\n      '68.98%',\n      '75.04%',\n      '81.11%',\n      '87.18%',\n      '93.81%',\n      '101.39%',\n      '110.32%',\n      '119.24%',\n      '128.16%',\n      '137.89%']},\n    {'label': '4-Hit DMG',\n     'values': ['49.75%',\n      '53.8%',\n      '57.85%',\n      '63.63%',\n      '67.68%',\n      '72.31%',\n      '78.68%',\n      '85.04%',\n      '91.4%',\n      '98.34%',\n      '106.3%',\n      '115.65%',\n      '125.01%',\n      '134.36%',\n      '144.57%']},\n    {'label': '5-Hit DMG',\n     'values': ['62.07%',\n      '67.13%',\n      '72.18%',\n      '79.4%',\n      '84.45%',\n      '90.22%',\n      '98.16%',\n      '106.1%',\n      '114.04%',\n      '122.7%',\n      '132.63%',\n      '144.3%',\n      '155.97%',\n      '167.64%',\n      '180.38%']},\n    {'label': 'Charged Attack DMG',\n     'values': ['47.3% + 60.2%',\n      '51.15% + 65.1%',\n      '55% + 70%',\n      '60.5% + 77%',\n      '64.35% + 81.9%',\n      '68.75% + 87.5%',\n      '74.8% + 95.2%',\n      '80.85% + 102.9%',\n      '86.9% + 110.6%',\n      '93.5% + 119%',\n      '101.06% + 128.62%',\n      '109.96% + 139.94%',\n      '118.85% + 151.26%',\n      '127.74% + 162.58%',\n      '137.44% + 174.93%']},\n    {'label': 'Charged Attack Stamina Cost',\n     'values': ['20',\n      '20',\n      '20',\n      '20',\n      '20',\n      '20',\n      '20',\n      '20',\n      '20',\n      '20',\n      '20',\n      '20',\n      '20',\n      '20',\n      '20']},\n    {'label': 'Plunge DMG',\n     'values': ['63.93%',\n      '69.14%',\n      '74.34%',\n      '81.77%',\n      '86.98%',\n      '92.93%',\n      '101.1%',\n      '109.28%',\n      '117.46%',\n      '126.38%',\n      '135.3%',\n      '144.22%',\n      '153.14%',\n      '162.06%',\n      '170.98%']},\n    {'label': 'Low/High Plunge DMG',\n     'values': ['127.84% / 159.68%',\n      '138.24% / 172.67%',\n      '148.65% / 185.67%',\n      '163.51% / 204.24%',\n      '173.92% / 217.23%',\n      '185.81% / 232.09%',\n      '202.16% / 252.51%',\n      '218.51% / 272.93%',\n      '234.86% / 293.36%',\n      '252.7% / 315.64%',\n      '270.54% / 337.92%',\n      '288.38% / 360.2%',\n      '306.22% / 382.48%',\n      '324.05% / 404.76%',\n      '341.89% / 427.04%']}]},\n  {'_id': 10387,\n   'id': 'abiogenesisSolarIsotoma',\n   'name': 'Abiogenesis: Solar Isotoma',\n   'description': \"Albedo creates a Solar Isotoma using alchemy, which deals AoE Geo DMG on appearance.Solar Isotomahas the following properties:·When opponents within the Solar Isotoma field take DMG, the Solar Isotoma will generate Transient Blossoms which deal AoE Geo DMG. DMG dealt scales off Albedo's DEF. ·Transient Blossoms can only be generated once every 2s.·When a character is located at the locus of the Solar Isotoma, the Solar Isotoma will accumulate Geo power to form a crystallized platform that lifts the character up to a certain height. Only one crystallized platform can exist at a time.·Solar Isotoma is considered a Geo construct. Only one Solar Isotoma created by Albedo himself can exist at a time. Hold to designate the location of the skill.\",\n   'info': 'This Geo bloom has an unusual property mirrored in the aim of alchemy. To rise from the earth, soar into the sky, and become the sun.',\n   'attributes': [{'label': 'Skill DMG',\n     'values': ['130.4%',\n      '140.18%',\n      '149.96%',\n      '163%',\n      '172.78%',\n      '182.56%',\n      '195.6%',\n      '208.64%',\n      '221.68%',\n      '234.72%',\n      '247.76%',\n      '260.8%',\n      '277.1%',\n      '293.4%',\n      '309.7%']},\n    {'label': 'Transient Blossom DMG',\n     'values': ['133.6% DEF',\n      '143.62% DEF',\n      '153.64% DEF',\n      '167% DEF',\n      '177.02% DEF',\n      '187.04% DEF',\n      '200.4% DEF',\n      '213.76% DEF',\n      '227.12% DEF',\n      '240.48% DEF',\n      '253.84% DEF',\n      '267.2% DEF',\n      '283.9% DEF',\n      '300.6% DEF',\n      '317.3% DEF']},\n    {'label': 'Duration',\n     'values': ['30s',\n      '30s',\n      '30s',\n      '30s',\n      '30s',\n      '30s',\n      '30s',\n      '30s',\n      '30s',\n      '30s',\n      '30s',\n      '30s',\n      '30s',\n      '30s',\n      '30s']},\n    {'label': 'Skill CD',\n     'values': ['4s',\n      '4s',\n      '4s',\n      '4s',\n      '4s',\n      '4s',\n      '4s',\n      '4s',\n      '4s',\n      '4s',\n      '4s',\n      '4s',\n      '4s',\n      '4s',\n      '4s']}]},\n  {'_id': 10388,\n   'id': 'riteOfProgenitureTectonicTide',\n   'name': 'Rite of Progeniture: Tectonic Tide',\n   'description': \"Under Albedo's command, Geo crystals surge and burst forth, dealing AoE Geo DMG in front of him.If a Solar Isotoma created by Albedo himself is on the field, 7 Fatal Blossoms will be generated in the Solar Isotoma field, bursting violently into bloom and dealing AoE Geo DMG.Tectonic Tide DMG and Fatal Blossom DMG will not generate Transient Blossoms.\",\n   'info': \"Under the Kreideprinz's command, the tectonic tide of creation seethes into life.\",\n   'attributes': [{'label': 'Burst DMG',\n     'values': ['367.2%',\n      '394.74%',\n      '422.28%',\n      '459%',\n      '486.54%',\n      '514.08%',\n      '550.8%',\n      '587.52%',\n      '624.24%',\n      '660.96%',\n      '697.68%',\n      '734.4%',\n      '780.3%',\n      '826.2%',\n      '872.1%']},\n    {'label': 'Fatal Blossom DMG',\n     'values': ['72% each',\n      '77.4% each',\n      '82.8% each',\n      '90% each',\n      '95.4% each',\n      '100.8% each',\n      '108% each',\n      '115.2% each',\n      '122.4% each',\n      '129.6% each',\n      '136.8% each',\n      '144% each',\n      '153% each',\n      '162% each',\n      '171% each']},\n    {'label': 'CD',\n     'values': ['12s',\n      '12s',\n      '12s',\n      '12s',\n      '12s',\n      '12s',\n      '12s',\n      '12s',\n      '12s',\n      '12s',\n      '12s',\n      '12s',\n      '12s',\n      '12s',\n      '12s']},\n    {'label': 'Energy Cost',\n     'values': ['40',\n      '40',\n      '40',\n      '40',\n      '40',\n      '40',\n      '40',\n      '40',\n      '40',\n      '40',\n      '40',\n      '40',\n      '40',\n      '40',\n      '40']}]}],\n 'passives': [{'id': 'calciteMight',\n   'name': 'Calcite Might',\n   'description': 'Transient Blossoms generated by Abiogenesis: Solar Isotoma deal 25% more DMG to opponents whose HP is below 50%.',\n   'level': 1},\n  {'id': 'homuncularNature',\n   'name': 'Homuncular Nature',\n   'description': 'Using Rite of Progeniture: Tectonic Tide increases the Elemental Mastery of nearby party members by 125 for 10s.',\n   'level': 4},\n  {'id': 'flashOfGenius',\n   'name': 'Flash of Genius',\n   'description': 'When Albedo crafts Weapon Ascension Materials, he has a 10% chance to receive double the product.',\n   'level': 0}],\n 'constellations': [{'_id': 381,\n   'id': 'flowerOfEden',\n   'name': 'Flower of Eden',\n   'description': \"Transient Blossoms generated by Albedo's Abiogenesis: Solar Isotoma regenerate 1.2 Energy for Albedo.\",\n   'level': 1},\n  {'_id': 382,\n   'id': 'openingOfPhanerozoic',\n   'name': 'Opening of Phanerozoic',\n   'description': \"Transient Blossoms generated by Abiogenesis: Solar Isotoma grant Albedo Fatal Reckoning for 30s:·Unleashing Rite of Progeniture: Tectonic Tide consumes all stacks of Fatal Reckoning. Each stack of Fatal Reckoning consumed increases the DMG dealt by Fatal Blossoms and Rite of Progeniture: Tectonic Tide's burst DMG by 30% of Albedo's DEF.·This effect stacks up to 4 times.\",\n   'level': 2},\n  {'_id': 383,\n   'id': 'graceOfHelios',\n   'name': 'Grace of Helios',\n   'description': 'Increases the Level of Abiogenesis: Solar Isotoma by 3.Maximum upgrade level is 15.',\n   'level': 3},\n  {'_id': 384,\n   'id': 'descentOfDivinity',\n   'name': 'Descent of Divinity',\n   'description': 'Active party members within the Solar Isotoma field have their Plunging Attack DMG increased by 30%.',\n   'level': 4},\n  {'_id': 385,\n   'id': 'tideOfHadean',\n   'name': 'Tide of Hadean',\n   'description': 'Increases the Level of Rite of Progeniture: Tectonic Tide by 3.Maximum upgrade level is 15.',\n   'level': 5},\n  {'_id': 386,\n   'id': 'dustOfPurification',\n   'name': 'Dust of Purification',\n   'description': 'Active party members within the Solar Isotoma field who are protected by a shield created by Crystallize have their DMG increased by 17%.',\n   'level': 6}],\n 'ascension': [{'level': [1],\n   'stats': [{'label': 'Ascend', 'values': ['-', 1]},\n    {'label': 'Base HP', 'values': ['-', '1030']},\n    {'label': 'Base ATK', 'values': ['-', '20']},\n    {'label': 'Base DEF', 'values': ['-', '68']},\n    {'label': 'Geo DMG Bonus', 'values': ['-', '0.0%']}]},\n  {'level': [20],\n   'stats': [{'label': 'Ascend', 'values': [0, 1]},\n    {'label': 'Base HP', 'values': ['2671', '3554']},\n    {'label': 'Base ATK', 'values': ['51', '67']},\n    {'label': 'Base DEF', 'values': ['177', '235']},\n    {'label': 'Geo DMG Bonus', 'values': ['0.0%', '0.0%']}]},\n  {'level': [40],\n   'cost': 20000,\n   'stats': [{'label': 'Ascend', 'values': [1, 2]},\n    {'label': 'Base HP', 'values': ['5317', '5944']},\n    {'label': 'Base ATK', 'values': ['101', '113']},\n    {'label': 'Base DEF', 'values': ['352', '394']},\n    {'label': 'Geo DMG Bonus', 'values': ['0.0%', '7.2%']}],\n   'mat1': {'_id': 104171,\n    'id': 'prithivaTopazSliver',\n    'name': 'Prithiva Topaz Sliver',\n    'amount': 1,\n    'rarity': 2},\n   'mat3': {'_id': 100023,\n    'id': 'cecilia',\n    'name': 'Cecilia',\n    'amount': 3,\n    'rarity': 1},\n   'mat4': {'_id': 112008,\n    'id': 'diviningScroll',\n    'name': 'Divining Scroll',\n    'amount': 3,\n    'rarity': 1}},\n  {'level': [50],\n   'cost': 40000,\n   'stats': [{'label': 'Ascend', 'values': [2, 3]},\n    {'label': 'Base HP', 'values': ['6839', '7675']},\n    {'label': 'Base ATK', 'values': ['130', '146']},\n    {'label': 'Base DEF', 'values': ['453', '508']},\n    {'label': 'Geo DMG Bonus', 'values': ['7.2%', '14.4%']}],\n   'mat1': {'_id': 104172,\n    'id': 'prithivaTopazFragment',\n    'name': 'Prithiva Topaz Fragment',\n    'amount': 3,\n    'rarity': 3},\n   'mat2': {'_id': 113009,\n    'id': 'basaltPillar',\n    'name': 'Basalt Pillar',\n    'amount': 2,\n    'rarity': 4},\n   'mat3': {'_id': 100023,\n    'id': 'cecilia',\n    'name': 'Cecilia',\n    'amount': 10,\n    'rarity': 1},\n   'mat4': {'_id': 112008,\n    'id': 'diviningScroll',\n    'name': 'Divining Scroll',\n    'amount': 15,\n    'rarity': 1}},\n  {'level': [60],\n   'cost': 60000,\n   'stats': [{'label': 'Ascend', 'values': [3, 4]},\n    {'label': 'Base HP', 'values': ['8579', '9207']},\n    {'label': 'Base ATK', 'values': ['163', '175']},\n    {'label': 'Base DEF', 'values': ['568', '610']},\n    {'label': 'Geo DMG Bonus', 'values': ['14.4%', '14.4%']}],\n   'mat1': {'_id': 104172,\n    'id': 'prithivaTopazFragment',\n    'name': 'Prithiva Topaz Fragment',\n    'amount': 6,\n    'rarity': 3},\n   'mat2': {'_id': 113009,\n    'id': 'basaltPillar',\n    'name': 'Basalt Pillar',\n    'amount': 4,\n    'rarity': 4},\n   'mat3': {'_id': 100023,\n    'id': 'cecilia',\n    'name': 'Cecilia',\n    'amount': 20,\n    'rarity': 1},\n   'mat4': {'_id': 112009,\n    'id': 'sealedScroll',\n    'name': 'Sealed Scroll',\n    'amount': 12,\n    'rarity': 2}},\n  {'level': [70],\n   'cost': 80000,\n   'stats': [{'label': 'Ascend', 'values': [4, 5]},\n    {'label': 'Base HP', 'values': ['10119', '10746']},\n    {'label': 'Base ATK', 'values': ['192', '204']},\n    {'label': 'Base DEF', 'values': ['670', '712']},\n    {'label': 'Geo DMG Bonus', 'values': ['14.4%', '21.6%']}],\n   'mat1': {'_id': 104173,\n    'id': 'prithivaTopazChunk',\n    'name': 'Prithiva Topaz Chunk',\n    'amount': 3,\n    'rarity': 4},\n   'mat2': {'_id': 113009,\n    'id': 'basaltPillar',\n    'name': 'Basalt Pillar',\n    'amount': 8,\n    'rarity': 4},\n   'mat3': {'_id': 100023,\n    'id': 'cecilia',\n    'name': 'Cecilia',\n    'amount': 30,\n    'rarity': 1},\n   'mat4': {'_id': 112009,\n    'id': 'sealedScroll',\n    'name': 'Sealed Scroll',\n    'amount': 18,\n    'rarity': 2}},\n  {'level': [80],\n   'cost': 100000,\n   'stats': [{'label': 'Ascend', 'values': [5, 6]},\n    {'label': 'Base HP', 'values': ['11669', '12296']},\n    {'label': 'Base ATK', 'values': ['222', '233']},\n    {'label': 'Base DEF', 'values': ['773', '815']},\n    {'label': 'Geo DMG Bonus', 'values': ['21.6%', '28.8%']}],\n   'mat1': {'_id': 104173,\n    'id': 'prithivaTopazChunk',\n    'name': 'Prithiva Topaz Chunk',\n    'amount': 6,\n    'rarity': 4},\n   'mat2': {'_id': 113009,\n    'id': 'basaltPillar',\n    'name': 'Basalt Pillar',\n    'amount': 12,\n    'rarity': 4},\n   'mat3': {'_id': 100023,\n    'id': 'cecilia',\n    'name': 'Cecilia',\n    'amount': 45,\n    'rarity': 1},\n   'mat4': {'_id': 112010,\n    'id': 'forbiddenCurseScroll',\n    'name': 'Forbidden Curse Scroll',\n    'amount': 12,\n    'rarity': 3}},\n  {'level': [90],\n   'cost': 120000,\n   'stats': [{'label': 'Ascend', 'values': [6, 7]},\n    {'label': 'Base HP', 'values': ['13226', '13226']},\n    {'label': 'Base ATK', 'values': ['251', '251']},\n    {'label': 'Base DEF', 'values': ['876', '876']},\n    {'label': 'Geo DMG Bonus', 'values': ['28.8%', '28.8%']}],\n   'mat1': {'_id': 104174,\n    'id': 'prithivaTopazGemstone',\n    'name': 'Prithiva Topaz Gemstone',\n    'amount': 6,\n    'rarity': 5},\n   'mat2': {'_id': 113009,\n    'id': 'basaltPillar',\n    'name': 'Basalt Pillar',\n    'amount': 20,\n    'rarity': 4},\n   'mat3': {'_id': 100023,\n    'id': 'cecilia',\n    'name': 'Cecilia',\n    'amount': 60,\n    'rarity': 1},\n   'mat4': {'_id': 112010,\n    'id': 'forbiddenCurseScroll',\n    'name': 'Forbidden Curse Scroll',\n    'amount': 24,\n    'rarity': 3}}],\n 'talent_materials': [{'level': 2,\n   'cost': 12500,\n   'items': [{'_id': 104307,\n     'id': 'teachingsOfBallad',\n     'name': 'Teachings of Ballad',\n     'amount': 3,\n     'rarity': 2},\n    {'_id': 112008,\n     'id': 'diviningScroll',\n     'name': 'Divining Scroll',\n     'amount': 6,\n     'rarity': 1}]},\n  {'level': 3,\n   'cost': 17500,\n   'items': [{'_id': 104308,\n     'id': 'guideToBallad',\n     'name': 'Guide to Ballad',\n     'amount': 2,\n     'rarity': 3},\n    {'_id': 112009,\n     'id': 'sealedScroll',\n     'name': 'Sealed Scroll',\n     'amount': 3,\n     'rarity': 2}]},\n  {'level': 4,\n   'cost': 25000,\n   'items': [{'_id': 104308,\n     'id': 'guideToBallad',\n     'name': 'Guide to Ballad',\n     'amount': 4,\n     'rarity': 3},\n    {'_id': 112009,\n     'id': 'sealedScroll',\n     'name': 'Sealed Scroll',\n     'amount': 4,\n     'rarity': 2}]},\n  {'level': 5,\n   'cost': 30000,\n   'items': [{'_id': 104308,\n     'id': 'guideToBallad',\n     'name': 'Guide to Ballad',\n     'amount': 6,\n     'rarity': 3},\n    {'_id': 112009,\n     'id': 'sealedScroll',\n     'name': 'Sealed Scroll',\n     'amount': 6,\n     'rarity': 2}]},\n  {'level': 6,\n   'cost': 37500,\n   'items': [{'_id': 104308,\n     'id': 'guideToBallad',\n     'name': 'Guide to Ballad',\n     'amount': 9,\n     'rarity': 3},\n    {'_id': 112009,\n     'id': 'sealedScroll',\n     'name': 'Sealed Scroll',\n     'amount': 9,\n     'rarity': 2}]},\n  {'level': 7,\n   'cost': 120000,\n   'items': [{'_id': 104309,\n     'id': 'philosophiesOfBallad',\n     'name': 'Philosophies of Ballad',\n     'amount': 4,\n     'rarity': 4},\n    {'_id': 112010,\n     'id': 'forbiddenCurseScroll',\n     'name': 'Forbidden Curse Scroll',\n     'amount': 4,\n     'rarity': 3},\n    {'_id': 113013,\n     'id': 'tuskOfMonocerosCaeli',\n     'name': 'Tusk of Monoceros Caeli',\n     'amount': 1,\n     'rarity': 5}]},\n  {'level': 8,\n   'cost': 260000,\n   'items': [{'_id': 104309,\n     'id': 'philosophiesOfBallad',\n     'name': 'Philosophies of Ballad',\n     'amount': 6,\n     'rarity': 4},\n    {'_id': 112010,\n     'id': 'forbiddenCurseScroll',\n     'name': 'Forbidden Curse Scroll',\n     'amount': 6,\n     'rarity': 3},\n    {'_id': 113013,\n     'id': 'tuskOfMonocerosCaeli',\n     'name': 'Tusk of Monoceros Caeli',\n     'amount': 1,\n     'rarity': 5}]},\n  {'level': 9,\n   'cost': 450000,\n   'items': [{'_id': 104309,\n     'id': 'philosophiesOfBallad',\n     'name': 'Philosophies of Ballad',\n     'amount': 12,\n     'rarity': 4},\n    {'_id': 112010,\n     'id': 'forbiddenCurseScroll',\n     'name': 'Forbidden Curse Scroll',\n     'amount': 9,\n     'rarity': 3},\n    {'_id': 113013,\n     'id': 'tuskOfMonocerosCaeli',\n     'name': 'Tusk of Monoceros Caeli',\n     'amount': 2,\n     'rarity': 5}]},\n  {'level': 10,\n   'cost': 700000,\n   'items': [{'_id': 104309,\n     'id': 'philosophiesOfBallad',\n     'name': 'Philosophies of Ballad',\n     'amount': 16,\n     'rarity': 4},\n    {'_id': 112010,\n     'id': 'forbiddenCurseScroll',\n     'name': 'Forbidden Curse Scroll',\n     'amount': 12,\n     'rarity': 3},\n    {'_id': 113013,\n     'id': 'tuskOfMonocerosCaeli',\n     'name': 'Tusk of Monoceros Caeli',\n     'amount': 2,\n     'rarity': 5},\n    {'_id': 104319,\n     'id': 'crownOfInsight',\n     'name': 'Crown of Insight',\n     'amount': 1,\n     'rarity': 5}]}]}"
					},
					"execution_count": 28,
					"metadata": {},
					"output_type": "execute_result"
				}
			],
			"source": [
				"albedo[\"id\"] = pascal(albedo[\"id\"])\n",
				"for skill in albedo[\"skills\"]:\n",
				"    skill[\"id\"] = pascal(skill[\"id\"])\n",
				"for passive in albedo[\"passives\"]:\n",
				"    passive[\"id\"] = pascal(passive[\"id\"])\n",
				"for const in albedo[\"constellations\"]:\n",
				"    const[\"id\"] = pascal(const[\"id\"])\n",
				"for asc in albedo[\"ascension\"]:\n",
				"    for key in asc:\n",
				"        if \"mat\" in key:\n",
				"            asc[key][\"id\"] = pascal(asc[key][\"id\"])\n",
				"for tal in albedo[\"talent_materials\"]:\n",
				"    for item in tal[\"items\"]:\n",
				"        item[\"id\"] = pascal(item[\"id\"])\n",
				"\n",
				"with open(\"../data/EN/Character/albedo.json\", \"w\", encoding=\"utf-8\") as f:\n",
				"    json.dump(albedo, f, ensure_ascii=False, indent=\"\\t\")\n",
				"\n",
				"albedo"
			],
			"metadata": {
				"collapsed": false,
				"pycharm": {
					"name": "#%%\n"
				}
			}
		},
		{
			"cell_type": "code",
			"execution_count": 12,
			"outputs": [
				{
					"name": "stdout",
					"output_type": "stream",
					"text": [
						"Language: ../data/DE\n",
						"Language: ../data/EN\n",
						"Language: ../data/ES\n",
						"Language: ../data/FR\n",
						"Language: ../data/ID\n",
						"Language: ../data/IT\n",
						"Language: ../data/JP\n",
						"Language: ../data/KO\n",
						"Language: ../data/PT\n",
						"Language: ../data/RU\n",
						"Language: ../data/TH\n",
						"Language: ../data/TR\n",
						"Language: ../data/VI\n",
						"Language: ../data/ZH-S\n",
						"Language: ../data/ZH-T\n"
					]
				}
			],
			"source": [
				"import json\n",
				"import os\n",
				"\n",
				"def pascalChar(char_path):\n",
				"    with open(char_path, \"r\", encoding=\"utf-8\") as f:\n",
				"        char = json.load(f)\n",
				"\n",
				"    traverse(char)\n",
				"\n",
				"    with open(char_path, \"w\", encoding=\"utf-8\") as f:\n",
				"        json.dump(char, f, ensure_ascii=False, indent=\"\\t\")\n",
				"\n",
				"data_dir = \"../data/\"\n",
				"\n",
				"for lang_dir in os.listdir(data_dir):\n",
				"    lang_path = os.path.join(data_dir, lang_dir)\n",
				"\n",
				"    if os.path.isdir(lang_path):\n",
				"        print(f\"Language: {lang_path}\")\n",
				"\n",
				"        chars_path = os.path.join(lang_path, \"Character\")\n",
				"        for root, dirs, files in os.walk(chars_path):\n",
				"            for char in files:\n",
				"                char_path = os.path.join(root, char)\n",
				"                try:\n",
				"                    pascalChar(char_path)\n",
				"                except:\n",
				"                    print(f\"  Pascal FAILED File: {char_path}\")"
			],
			"metadata": {
				"collapsed": false,
				"pycharm": {
					"name": "#%%\n"
				}
			}
		},
		{
			"cell_type": "code",
			"execution_count": 10,
			"outputs": [
				{
					"data": {
						"text/plain": "{'_id': 10000091,\n 'id': 'navia',\n 'name': 'Navia',\n 'title': 'Helm of the Radiant Rose',\n 'description': 'The current President of Spina di Rosula, who is lovely, dutiful, and a great boss.',\n 'weaponType': 'Claymore',\n 'element': 'Geo',\n 'gender': 'Female',\n 'substat': 'CRIT DMG',\n 'affiliation': 'Spina di Rosula',\n 'region': 'Fontaine',\n 'rarity': 5,\n 'birthday': '16/08',\n 'constellation': 'Rosa Multiflora',\n 'pictures': {},\n 'outfits': [{'name': '', 'image': ''}],\n 'cv': {'english': 'Brenna Larsen',\n  'chinese': '小敢',\n  'japanese': '豊崎愛生',\n  'korean': 'Jeong Hae-eun'},\n 'signatureWeapon': {'_id': 12512, 'id': 'verdict'},\n 'weapons': [{}],\n 'signatureArtifactSet': {},\n 'artifacts': [{}],\n 'specialDish': {},\n 'featuredBanner': [{'_id': None, 'id': '43'}],\n 'tcgCard': {},\n 'skills': [{'_id': 10911,\n   'id': 'normalAttackBluntRefusal',\n   'name': 'Normal Attack: Blunt Refusal',\n   'description': 'Normal AttackPerforms up to 4 consecutive strikes.Charged AttackDrains Stamina over time to perform continuous spinning attacks against all nearby opponents.At the end of the sequence, performs a more powerful slash.Plunging AttackPlunges from mid-air to strike the ground below, damaging opponents along the path and dealing AoE DMG upon impact.',\n   'info': '',\n   'attributes': [{'label': '1-Hit DMG',\n     'values': ['93.52%',\n      '101.13%',\n      '108.74%',\n      '119.62%',\n      '127.23%',\n      '135.93%',\n      '147.89%',\n      '159.85%',\n      '171.81%',\n      '184.86%',\n      '197.91%',\n      '210.96%',\n      '224.01%',\n      '237.06%',\n      '250.11%']},\n    {'label': '2-Hit DMG',\n     'values': ['86.51%',\n      '93.55%',\n      '100.59%',\n      '110.65%',\n      '117.69%',\n      '125.74%',\n      '136.8%',\n      '147.87%',\n      '158.93%',\n      '171%',\n      '183.07%',\n      '195.14%',\n      '207.21%',\n      '219.28%',\n      '231.35%']},\n    {'label': '3-Hit DMG',\n     'values': ['34.89%×3',\n      '37.73%×3',\n      '40.56%×3',\n      '44.62%×3',\n      '47.46%×3',\n      '50.71%×3',\n      '55.17%×3',\n      '59.63%×3',\n      '64.09%×3',\n      '68.96%×3',\n      '73.83%×3',\n      '78.7%×3',\n      '83.56%×3',\n      '88.43%×3',\n      '93.3%×3']},\n    {'label': '4-Hit DMG',\n     'values': ['133.43%',\n      '144.29%',\n      '155.15%',\n      '170.67%',\n      '181.53%',\n      '193.94%',\n      '211.01%',\n      '228.07%',\n      '245.14%',\n      '263.76%',\n      '282.38%',\n      '301%',\n      '319.62%',\n      '338.23%',\n      '356.85%']},\n    {'label': 'Charged Attack Cyclic DMG',\n     'values': ['62.52%',\n      '67.61%',\n      '72.7%',\n      '79.97%',\n      '85.06%',\n      '90.87%',\n      '98.87%',\n      '106.87%',\n      '114.87%',\n      '123.59%',\n      '132.31%',\n      '141.04%',\n      '149.76%',\n      '158.49%',\n      '167.21%']},\n    {'label': 'Charged Attack Final DMG',\n     'values': ['113.09%',\n      '122.29%',\n      '131.5%',\n      '144.65%',\n      '153.86%',\n      '164.37%',\n      '178.84%',\n      '193.31%',\n      '207.77%',\n      '223.55%',\n      '239.33%',\n      '255.11%',\n      '270.89%',\n      '286.67%',\n      '302.45%']},\n    {'label': 'Charged Attack Stamina Cost',\n     'values': ['40/s',\n      '40/s',\n      '40/s',\n      '40/s',\n      '40/s',\n      '40/s',\n      '40/s',\n      '40/s',\n      '40/s',\n      '40/s',\n      '40/s',\n      '40/s',\n      '40/s',\n      '40/s',\n      '40/s']},\n    {'label': 'Max Duration',\n     'values': ['5s',\n      '5s',\n      '5s',\n      '5s',\n      '5s',\n      '5s',\n      '5s',\n      '5s',\n      '5s',\n      '5s',\n      '5s',\n      '5s',\n      '5s',\n      '5s',\n      '5s']},\n    {'label': 'Plunge DMG',\n     'values': ['74.59%',\n      '80.66%',\n      '86.73%',\n      '95.4%',\n      '101.47%',\n      '108.41%',\n      '117.95%',\n      '127.49%',\n      '137.03%',\n      '147.44%',\n      '157.85%',\n      '168.26%',\n      '178.66%',\n      '189.07%',\n      '199.48%']},\n    {'label': 'Low/High Plunge DMG',\n     'values': ['149.14% / 186.29%',\n      '161.28% / 201.45%',\n      '173.42% / 216.62%',\n      '190.77% / 238.28%',\n      '202.91% / 253.44%',\n      '216.78% / 270.77%',\n      '235.86% / 294.6%',\n      '254.93% / 318.42%',\n      '274.01% / 342.25%',\n      '294.82% / 368.25%',\n      '315.63% / 394.24%',\n      '336.44% / 420.23%',\n      '357.25% / 446.23%',\n      '378.06% / 472.22%',\n      '398.87% / 498.21%']}]},\n  {'_id': 10912,\n   'id': 'ceremonialCrystalshot',\n   'name': 'Ceremonial Crystalshot',\n   'description': 'When a character in the party obtains an Elemental Shard created from the Crystallize reaction, Navia will gain 1 Crystal Shrapnel stack. Navia can have up to 6 stacks of Crystal Shrapnel at once. Each time Crystal Shrapnel gain is triggered, the duration of the Crystal Shrapnel stacks you already have will be reset.When she fires, Navia will consume all Crystal Shrapnel stacks and open her elegant yet lethal Gunbrella, firing multiple Rosula Shardshots that can penetrate opponents, dealing Geo DMG to opponents hit.When 0/1/2/3 or more stacks of Crystal Shrapnel are consumed, 5/7/9/11 Rosula Shardshots will be fired respectively. The more Rosula Shardshots that strike a single opponent, the greater the DMG dealt to them. When all 11 Rosula Shardshots strike, 200% of the original amount of DMG is dealt.In addition, when more than 3 stacks of Crystal Shrapnel are consumed, every stack consumed beyond those 3 will increase the DMG dealt by this Gunbrella attack by an additional 15%.HoldEnter Aiming Mode, continually collecting nearby Elemental Shards created by Crystallize reactions. When released, fire Rosula Shardshots with the same effect as when the skill is Tapped.Two initial charges.Arkhe: OusiaPeriodically, when Navia fires her Gunbrella, a Surging Blade will be summoned, dealing Ousia-aligned Geo DMG.',\n   'info': '\"Maintaining the appropriate distance with those whom distance should be maintained is an essential part of etiquette. Naturally, there are also many ways to do this...\"',\n   'attributes': [{'label': 'Rosula Shardshot Base DMG',\n     'values': ['394.8%',\n      '424.41%',\n      '454.02%',\n      '493.5%',\n      '523.11%',\n      '552.72%',\n      '592.2%',\n      '631.68%',\n      '671.16%',\n      '710.64%',\n      '750.12%',\n      '789.6%',\n      '838.95%',\n      '888.3%',\n      '937.65%']},\n    {'label': 'Crystal Shrapnel Duration',\n     'values': ['300s',\n      '300s',\n      '300s',\n      '300s',\n      '300s',\n      '300s',\n      '300s',\n      '300s',\n      '300s',\n      '300s',\n      '300s',\n      '300s',\n      '300s',\n      '300s',\n      '300s']},\n    {'label': 'Surging Blade DMG',\n     'values': ['36%',\n      '38.7%',\n      '41.4%',\n      '45%',\n      '47.7%',\n      '50.4%',\n      '54%',\n      '57.6%',\n      '61.2%',\n      '64.8%',\n      '68.4%',\n      '72%',\n      '76.5%',\n      '81%',\n      '85.5%']},\n    {'label': 'Surging Blade Interval',\n     'values': ['7s',\n      '7s',\n      '7s',\n      '7s',\n      '7s',\n      '7s',\n      '7s',\n      '7s',\n      '7s',\n      '7s',\n      '7s',\n      '7s',\n      '7s',\n      '7s',\n      '7s']},\n    {'label': 'CD',\n     'values': ['9s',\n      '9s',\n      '9s',\n      '9s',\n      '9s',\n      '9s',\n      '9s',\n      '9s',\n      '9s',\n      '9s',\n      '9s',\n      '9s',\n      '9s',\n      '9s',\n      '9s']}]},\n  {'_id': 10915,\n   'id': 'asTheSunlitSkysSingingSalute',\n   'name': \"As the Sunlit Sky's Singing Salute\",\n   'description': 'On the orders of the President of the Spina di Rosula, call for a magnificent Rosula Dorata Salute. Unleashes a massive cannon bombardment on opponents in front of her, dealing AoE Geo DMG and providing Cannon Fire Support for a duration afterward, periodically dealing Geo DMG to nearby opponents.When cannon attacks hit opponents, Navia will gain 1 stack of Crystal Shrapnel. This effect can be triggered up to once every 2.4s.',\n   'info': '\"The Spina di Rosula\\'s salute is a preemptive celebration of the successful conclusion of our negotiations and is fired just before talks begin. Don\\'t misunderstand, it isn\\'t in any way, shape, or form some kind of threat.\"',\n   'attributes': [{'label': 'Skill DMG',\n     'values': ['75.2%',\n      '80.84%',\n      '86.48%',\n      '94%',\n      '99.64%',\n      '105.28%',\n      '112.8%',\n      '120.32%',\n      '127.84%',\n      '135.36%',\n      '142.88%',\n      '150.4%',\n      '159.8%',\n      '169.2%',\n      '178.6%']},\n    {'label': 'Cannon Fire Support DMG',\n     'values': ['43.15%',\n      '46.39%',\n      '49.62%',\n      '53.94%',\n      '57.17%',\n      '60.41%',\n      '64.72%',\n      '69.04%',\n      '73.36%',\n      '77.67%',\n      '81.99%',\n      '86.3%',\n      '91.69%',\n      '97.09%',\n      '102.48%']},\n    {'label': 'Cannon Fire Support Duration',\n     'values': ['12s',\n      '12s',\n      '12s',\n      '12s',\n      '12s',\n      '12s',\n      '12s',\n      '12s',\n      '12s',\n      '12s',\n      '12s',\n      '12s',\n      '12s',\n      '12s',\n      '12s']},\n    {'label': 'CD',\n     'values': ['15s',\n      '15s',\n      '15s',\n      '15s',\n      '15s',\n      '15s',\n      '15s',\n      '15s',\n      '15s',\n      '15s',\n      '15s',\n      '15s',\n      '15s',\n      '15s',\n      '15s']},\n    {'label': 'Energy Cost',\n     'values': ['60',\n      '60',\n      '60',\n      '60',\n      '60',\n      '60',\n      '60',\n      '60',\n      '60',\n      '60',\n      '60',\n      '60',\n      '60',\n      '60',\n      '60']}]}],\n 'passives': [{'id': 'undisclosedDistributionChannels',\n   'name': 'Undisclosed Distribution Channels',\n   'description': \"For 4s after using Ceremonial Crystalshot, the DMG dealt by Navia's Normal Attacks, Charged Attacks, and Plunging Attacks will be converted into Geo DMG which cannot be overridden by other Elemental infusions, and the DMG dealt by Navia's Normal Attacks, Charged Attacks, and Plunging Attacks will be increased by 40%.\",\n   'level': 1},\n  {'id': 'mutualAssistanceNetwork',\n   'name': 'Mutual Assistance Network',\n   'description': 'For each Pyro/Electro/Cryo/Hydro party member, Navia gains 20% increased ATK. This effect can stack up to 2 times.',\n   'level': 4},\n  {'id': 'painstakingTransaction',\n   'name': 'Painstaking Transaction',\n   'description': 'Gains 25% more rewards when dispatched on a Fontaine Expedition for 20 hours.',\n   'level': 0}],\n 'constellations': [{'_id': 911,\n   'id': 'aLadysRulesForKeepingACourteousDistance',\n   'name': \"A Lady's Rules for Keeping a Courteous Distance\",\n   'description': 'Each stack of Crystal Shrapnel consumed when Navia uses Ceremonial Crystalshot will restore 3 Energy to her and decrease the CD of As the Sunlit Sky\\'s Singing Salute by 1s. Up to 9 Energy can be gained this way, and the CD of \"As the Sunlit Sky\\'s Singing Salute\" can be decreased by up to 3s.',\n   'level': 1},\n  {'_id': 912,\n   'id': 'thePresidentsPursuitOfVictory',\n   'name': \"The President's Pursuit of Victory\",\n   'description': \"Each stack of Crystal Shrapnel consumed will increase the CRIT Rate of this Ceremonial Crystalshot instance by 12%. CRIT Rate can be increased by up to 36% in this way.In addition, when Ceremonial Crystalshot hits an opponent, one Cannon Fire Support shot from As the Sunlit Sky's Singing Salute will strike near the location of the hit. Up to one instance of Cannon Fire Support can be triggered each time Ceremonial Crystalshot is used, and DMG dealt by said Cannon Fire Support this way is considered Elemental Burst DMG.\",\n   'level': 2},\n  {'_id': 913,\n   'id': 'businesswomansBroadVision',\n   'name': \"Businesswoman's Broad Vision\",\n   'description': 'Increases the Level of Ceremonial Crystalshot by 3.Maximum upgrade level is 15.',\n   'level': 3},\n  {'_id': 914,\n   'id': 'theOathswornNeverCapitulate',\n   'name': 'The Oathsworn Never Capitulate',\n   'description': \"When As the Sunlit Sky's Singing Salute hits an opponent, that opponent's Geo RES will be decreased by 20% for 8s.\",\n   'level': 4},\n  {'_id': 915,\n   'id': 'negotiatorsResoluteNegotiations',\n   'name': \"Negotiator's Resolute Negotiations\",\n   'description': \"Increases the Level of As the Sunlit Sky's Singing Salute by 3.Maximum upgrade level is 15.\",\n   'level': 5},\n  {'_id': 916,\n   'id': 'theFlexibleFinesseOfTheSpinasPresident',\n   'name': \"The Flexible Finesse of the Spina's President\",\n   'description': 'If more than 3 stacks of Crystal Shrapnel are consumed when using Ceremonial Crystalshot, each stack consumed beyond the first 3 increases the CRIT DMG of that Ceremonial Crystalshot by 45%, and any stacks consumed beyond the first 3 are returned to Navia.',\n   'level': 6}],\n 'ascension': [{'level': [1],\n   'stats': [{'label': 'Ascend', 'values': ['-', 1]},\n    {'label': 'Base HP', 'values': ['-', '985']},\n    {'label': 'Base ATK', 'values': ['-', '27']},\n    {'label': 'Base DEF', 'values': ['-', '62']},\n    {'label': 'CRIT DMG', 'values': ['-', '50.0%']}]},\n  {'level': [20],\n   'stats': [{'label': 'Ascend', 'values': [0, 1]},\n    {'label': 'Base HP', 'values': ['2555', '3399']},\n    {'label': 'Base ATK', 'values': ['71', '94']},\n    {'label': 'Base DEF', 'values': ['160', '213']},\n    {'label': 'CRIT DMG', 'values': ['50.0%', '50.0%']}]},\n  {'level': [40],\n   'cost': 20000,\n   'stats': [{'label': 'Ascend', 'values': [1, 2]},\n    {'label': 'Base HP', 'values': ['5086', '5686']},\n    {'label': 'Base ATK', 'values': ['141', '158']},\n    {'label': 'Base DEF', 'values': ['319', '356']},\n    {'label': 'CRIT DMG', 'values': ['50.0%', '59.6%']}],\n   'mat1': {'_id': 104171,\n    'id': 'prithivaTopazSliver',\n    'name': 'Prithiva Topaz Sliver',\n    'amount': 1,\n    'rarity': 2},\n   'mat3': {'_id': 101240,\n    'id': 'springOfTheFirstDewdrop',\n    'name': 'Spring of the First Dewdrop',\n    'amount': 3,\n    'rarity': 1},\n   'mat4': {'_id': 112080,\n    'id': 'transoceanicPearl',\n    'name': 'Transoceanic Pearl',\n    'amount': 3,\n    'rarity': 1}},\n  {'level': [50],\n   'cost': 40000,\n   'stats': [{'label': 'Ascend', 'values': [2, 3]},\n    {'label': 'Base HP', 'values': ['6542', '7341']},\n    {'label': 'Base ATK', 'values': ['182', '204']},\n    {'label': 'Base DEF', 'values': ['410', '460']},\n    {'label': 'CRIT DMG', 'values': ['59.6%', '69.2%']}],\n   'mat1': {'_id': 104172,\n    'id': 'prithivaTopazFragment',\n    'name': 'Prithiva Topaz Fragment',\n    'amount': 3,\n    'rarity': 3},\n   'mat2': {'_id': 113050,\n    'id': 'artificedSpareClockworkComponentCoppelius',\n    'name': 'Artificed Spare Clockwork Component — Coppelius',\n    'amount': 2,\n    'rarity': 4},\n   'mat3': {'_id': 101240,\n    'id': 'springOfTheFirstDewdrop',\n    'name': 'Spring of the First Dewdrop',\n    'amount': 10,\n    'rarity': 1},\n   'mat4': {'_id': 112080,\n    'id': 'transoceanicPearl',\n    'name': 'Transoceanic Pearl',\n    'amount': 15,\n    'rarity': 1}},\n  {'level': [60],\n   'cost': 60000,\n   'stats': [{'label': 'Ascend', 'values': [3, 4]},\n    {'label': 'Base HP', 'values': ['8206', '8806']},\n    {'label': 'Base ATK', 'values': ['228', '245']},\n    {'label': 'Base DEF', 'values': ['515', '552']},\n    {'label': 'CRIT DMG', 'values': ['69.2%', '69.2%']}],\n   'mat1': {'_id': 104172,\n    'id': 'prithivaTopazFragment',\n    'name': 'Prithiva Topaz Fragment',\n    'amount': 6,\n    'rarity': 3},\n   'mat2': {'_id': 113050,\n    'id': 'artificedSpareClockworkComponentCoppelius',\n    'name': 'Artificed Spare Clockwork Component — Coppelius',\n    'amount': 4,\n    'rarity': 4},\n   'mat3': {'_id': 101240,\n    'id': 'springOfTheFirstDewdrop',\n    'name': 'Spring of the First Dewdrop',\n    'amount': 20,\n    'rarity': 1},\n   'mat4': {'_id': 112081,\n    'id': 'transoceanicChunk',\n    'name': 'Transoceanic Chunk',\n    'amount': 12,\n    'rarity': 2}},\n  {'level': [70],\n   'cost': 80000,\n   'stats': [{'label': 'Ascend', 'values': [4, 5]},\n    {'label': 'Base HP', 'values': ['9679', '10278']},\n    {'label': 'Base ATK', 'values': ['269', '286']},\n    {'label': 'Base DEF', 'values': ['607', '644']},\n    {'label': 'CRIT DMG', 'values': ['69.2%', '78.8%']}],\n   'mat1': {'_id': 104173,\n    'id': 'prithivaTopazChunk',\n    'name': 'Prithiva Topaz Chunk',\n    'amount': 3,\n    'rarity': 4},\n   'mat2': {'_id': 113050,\n    'id': 'artificedSpareClockworkComponentCoppelius',\n    'name': 'Artificed Spare Clockwork Component — Coppelius',\n    'amount': 8,\n    'rarity': 4},\n   'mat3': {'_id': 101240,\n    'id': 'springOfTheFirstDewdrop',\n    'name': 'Spring of the First Dewdrop',\n    'amount': 30,\n    'rarity': 1},\n   'mat4': {'_id': 112081,\n    'id': 'transoceanicChunk',\n    'name': 'Transoceanic Chunk',\n    'amount': 18,\n    'rarity': 2}},\n  {'level': [80],\n   'cost': 100000,\n   'stats': [{'label': 'Ascend', 'values': [5, 6]},\n    {'label': 'Base HP', 'values': ['11161', '11761']},\n    {'label': 'Base ATK', 'values': ['310', '327']},\n    {'label': 'Base DEF', 'values': ['700', '737']},\n    {'label': 'CRIT DMG', 'values': ['78.8%', '88.4%']}],\n   'mat1': {'_id': 104173,\n    'id': 'prithivaTopazChunk',\n    'name': 'Prithiva Topaz Chunk',\n    'amount': 6,\n    'rarity': 4},\n   'mat2': {'_id': 113050,\n    'id': 'artificedSpareClockworkComponentCoppelius',\n    'name': 'Artificed Spare Clockwork Component — Coppelius',\n    'amount': 12,\n    'rarity': 4},\n   'mat3': {'_id': 101240,\n    'id': 'springOfTheFirstDewdrop',\n    'name': 'Spring of the First Dewdrop',\n    'amount': 45,\n    'rarity': 1},\n   'mat4': {'_id': 112082,\n    'id': 'xenochromaticCrystal',\n    'name': 'Xenochromatic Crystal',\n    'amount': 12,\n    'rarity': 3}},\n  {'level': [90],\n   'cost': 120000,\n   'stats': [{'label': 'Ascend', 'values': [6, 7]},\n    {'label': 'Base HP', 'values': ['12650', '12650']},\n    {'label': 'Base ATK', 'values': ['352', '352']},\n    {'label': 'Base DEF', 'values': ['793', '793']},\n    {'label': 'CRIT DMG', 'values': ['88.4%', '88.4%']}],\n   'mat1': {'_id': 104174,\n    'id': 'prithivaTopazGemstone',\n    'name': 'Prithiva Topaz Gemstone',\n    'amount': 6,\n    'rarity': 5},\n   'mat2': {'_id': 113050,\n    'id': 'artificedSpareClockworkComponentCoppelius',\n    'name': 'Artificed Spare Clockwork Component — Coppelius',\n    'amount': 20,\n    'rarity': 4},\n   'mat3': {'_id': 101240,\n    'id': 'springOfTheFirstDewdrop',\n    'name': 'Spring of the First Dewdrop',\n    'amount': 60,\n    'rarity': 1},\n   'mat4': {'_id': 112082,\n    'id': 'xenochromaticCrystal',\n    'name': 'Xenochromatic Crystal',\n    'amount': 24,\n    'rarity': 3}}],\n 'talentMaterials': [{'level': 2,\n   'cost': 12500,\n   'items': [{'_id': 104338,\n     'id': 'teachingsOfEquity',\n     'name': 'Teachings of Equity',\n     'amount': 3,\n     'rarity': 2},\n    {'_id': 112080,\n     'id': 'transoceanicPearl',\n     'name': 'Transoceanic Pearl',\n     'amount': 6,\n     'rarity': 1}]},\n  {'level': 3,\n   'cost': 17500,\n   'items': [{'_id': 104339,\n     'id': 'guideToEquity',\n     'name': 'Guide to Equity',\n     'amount': 2,\n     'rarity': 3},\n    {'_id': 112081,\n     'id': 'transoceanicChunk',\n     'name': 'Transoceanic Chunk',\n     'amount': 3,\n     'rarity': 2}]},\n  {'level': 4,\n   'cost': 25000,\n   'items': [{'_id': 104339,\n     'id': 'guideToEquity',\n     'name': 'Guide to Equity',\n     'amount': 4,\n     'rarity': 3},\n    {'_id': 112081,\n     'id': 'transoceanicChunk',\n     'name': 'Transoceanic Chunk',\n     'amount': 4,\n     'rarity': 2}]},\n  {'level': 5,\n   'cost': 30000,\n   'items': [{'_id': 104339,\n     'id': 'guideToEquity',\n     'name': 'Guide to Equity',\n     'amount': 6,\n     'rarity': 3},\n    {'_id': 112081,\n     'id': 'transoceanicChunk',\n     'name': 'Transoceanic Chunk',\n     'amount': 6,\n     'rarity': 2}]},\n  {'level': 6,\n   'cost': 37500,\n   'items': [{'_id': 104339,\n     'id': 'guideToEquity',\n     'name': 'Guide to Equity',\n     'amount': 9,\n     'rarity': 3},\n    {'_id': 112081,\n     'id': 'transoceanicChunk',\n     'name': 'Transoceanic Chunk',\n     'amount': 9,\n     'rarity': 2}]},\n  {'level': 7,\n   'cost': 120000,\n   'items': [{'_id': 104340,\n     'id': 'philosophiesOfEquity',\n     'name': 'Philosophies of Equity',\n     'amount': 4,\n     'rarity': 4},\n    {'_id': 112082,\n     'id': 'xenochromaticCrystal',\n     'name': 'Xenochromatic Crystal',\n     'amount': 4,\n     'rarity': 3},\n    {'_id': 113054,\n     'id': 'lightlessSilkString',\n     'name': 'Lightless Silk String',\n     'amount': 1,\n     'rarity': 5}]},\n  {'level': 8,\n   'cost': 260000,\n   'items': [{'_id': 104340,\n     'id': 'philosophiesOfEquity',\n     'name': 'Philosophies of Equity',\n     'amount': 6,\n     'rarity': 4},\n    {'_id': 112082,\n     'id': 'xenochromaticCrystal',\n     'name': 'Xenochromatic Crystal',\n     'amount': 6,\n     'rarity': 3},\n    {'_id': 113054,\n     'id': 'lightlessSilkString',\n     'name': 'Lightless Silk String',\n     'amount': 1,\n     'rarity': 5}]},\n  {'level': 9,\n   'cost': 450000,\n   'items': [{'_id': 104340,\n     'id': 'philosophiesOfEquity',\n     'name': 'Philosophies of Equity',\n     'amount': 12,\n     'rarity': 4},\n    {'_id': 112082,\n     'id': 'xenochromaticCrystal',\n     'name': 'Xenochromatic Crystal',\n     'amount': 9,\n     'rarity': 3},\n    {'_id': 113054,\n     'id': 'lightlessSilkString',\n     'name': 'Lightless Silk String',\n     'amount': 2,\n     'rarity': 5}]},\n  {'level': 10,\n   'cost': 700000,\n   'items': [{'_id': 104340,\n     'id': 'philosophiesOfEquity',\n     'name': 'Philosophies of Equity',\n     'amount': 16,\n     'rarity': 4},\n    {'_id': 112082,\n     'id': 'xenochromaticCrystal',\n     'name': 'Xenochromatic Crystal',\n     'amount': 12,\n     'rarity': 3},\n    {'_id': 113054,\n     'id': 'lightlessSilkString',\n     'name': 'Lightless Silk String',\n     'amount': 2,\n     'rarity': 5},\n    {'_id': 104319,\n     'id': 'crownOfInsight',\n     'name': 'Crown of Insight',\n     'amount': 1,\n     'rarity': 5}]}]}"
					},
					"execution_count": 10,
					"metadata": {},
					"output_type": "execute_result"
				}
			],
			"source": [
				"with open(\"../data/EN/Character/navia.json\", \"r\", encoding=\"utf-8\") as f:\n",
				"    navia = json.load(f)\n",
				"navia"
			],
			"metadata": {
				"collapsed": false,
				"pycharm": {
					"name": "#%%\n"
				}
			}
		},
		{
			"cell_type": "code",
			"execution_count": 11,
			"outputs": [
				{
					"data": {
						"text/plain": "{'_id': 10000091,\n 'id': 'Navia',\n 'name': 'Navia',\n 'title': 'Helm of the Radiant Rose',\n 'description': 'The current President of Spina di Rosula, who is lovely, dutiful, and a great boss.',\n 'weaponType': 'Claymore',\n 'element': 'Geo',\n 'gender': 'Female',\n 'substat': 'CRIT DMG',\n 'affiliation': 'Spina di Rosula',\n 'region': 'Fontaine',\n 'rarity': 5,\n 'birthday': '16/08',\n 'constellation': 'Rosa Multiflora',\n 'pictures': {},\n 'outfits': [{'name': '', 'image': ''}],\n 'cv': {'english': 'Brenna Larsen',\n  'chinese': '小敢',\n  'japanese': '豊崎愛生',\n  'korean': 'Jeong Hae-eun'},\n 'signatureWeapon': {'_id': 12512, 'id': 'Verdict'},\n 'weapons': [{}],\n 'signatureArtifactSet': {},\n 'artifacts': [{}],\n 'specialDish': {},\n 'featuredBanner': [{'_id': None, 'id': '43'}],\n 'tcgCard': {},\n 'skills': [{'_id': 10911,\n   'id': 'NormalAttackBluntRefusal',\n   'name': 'Normal Attack: Blunt Refusal',\n   'description': 'Normal AttackPerforms up to 4 consecutive strikes.Charged AttackDrains Stamina over time to perform continuous spinning attacks against all nearby opponents.At the end of the sequence, performs a more powerful slash.Plunging AttackPlunges from mid-air to strike the ground below, damaging opponents along the path and dealing AoE DMG upon impact.',\n   'info': '',\n   'attributes': [{'label': '1-Hit DMG',\n     'values': ['93.52%',\n      '101.13%',\n      '108.74%',\n      '119.62%',\n      '127.23%',\n      '135.93%',\n      '147.89%',\n      '159.85%',\n      '171.81%',\n      '184.86%',\n      '197.91%',\n      '210.96%',\n      '224.01%',\n      '237.06%',\n      '250.11%']},\n    {'label': '2-Hit DMG',\n     'values': ['86.51%',\n      '93.55%',\n      '100.59%',\n      '110.65%',\n      '117.69%',\n      '125.74%',\n      '136.8%',\n      '147.87%',\n      '158.93%',\n      '171%',\n      '183.07%',\n      '195.14%',\n      '207.21%',\n      '219.28%',\n      '231.35%']},\n    {'label': '3-Hit DMG',\n     'values': ['34.89%×3',\n      '37.73%×3',\n      '40.56%×3',\n      '44.62%×3',\n      '47.46%×3',\n      '50.71%×3',\n      '55.17%×3',\n      '59.63%×3',\n      '64.09%×3',\n      '68.96%×3',\n      '73.83%×3',\n      '78.7%×3',\n      '83.56%×3',\n      '88.43%×3',\n      '93.3%×3']},\n    {'label': '4-Hit DMG',\n     'values': ['133.43%',\n      '144.29%',\n      '155.15%',\n      '170.67%',\n      '181.53%',\n      '193.94%',\n      '211.01%',\n      '228.07%',\n      '245.14%',\n      '263.76%',\n      '282.38%',\n      '301%',\n      '319.62%',\n      '338.23%',\n      '356.85%']},\n    {'label': 'Charged Attack Cyclic DMG',\n     'values': ['62.52%',\n      '67.61%',\n      '72.7%',\n      '79.97%',\n      '85.06%',\n      '90.87%',\n      '98.87%',\n      '106.87%',\n      '114.87%',\n      '123.59%',\n      '132.31%',\n      '141.04%',\n      '149.76%',\n      '158.49%',\n      '167.21%']},\n    {'label': 'Charged Attack Final DMG',\n     'values': ['113.09%',\n      '122.29%',\n      '131.5%',\n      '144.65%',\n      '153.86%',\n      '164.37%',\n      '178.84%',\n      '193.31%',\n      '207.77%',\n      '223.55%',\n      '239.33%',\n      '255.11%',\n      '270.89%',\n      '286.67%',\n      '302.45%']},\n    {'label': 'Charged Attack Stamina Cost',\n     'values': ['40/s',\n      '40/s',\n      '40/s',\n      '40/s',\n      '40/s',\n      '40/s',\n      '40/s',\n      '40/s',\n      '40/s',\n      '40/s',\n      '40/s',\n      '40/s',\n      '40/s',\n      '40/s',\n      '40/s']},\n    {'label': 'Max Duration',\n     'values': ['5s',\n      '5s',\n      '5s',\n      '5s',\n      '5s',\n      '5s',\n      '5s',\n      '5s',\n      '5s',\n      '5s',\n      '5s',\n      '5s',\n      '5s',\n      '5s',\n      '5s']},\n    {'label': 'Plunge DMG',\n     'values': ['74.59%',\n      '80.66%',\n      '86.73%',\n      '95.4%',\n      '101.47%',\n      '108.41%',\n      '117.95%',\n      '127.49%',\n      '137.03%',\n      '147.44%',\n      '157.85%',\n      '168.26%',\n      '178.66%',\n      '189.07%',\n      '199.48%']},\n    {'label': 'Low/High Plunge DMG',\n     'values': ['149.14% / 186.29%',\n      '161.28% / 201.45%',\n      '173.42% / 216.62%',\n      '190.77% / 238.28%',\n      '202.91% / 253.44%',\n      '216.78% / 270.77%',\n      '235.86% / 294.6%',\n      '254.93% / 318.42%',\n      '274.01% / 342.25%',\n      '294.82% / 368.25%',\n      '315.63% / 394.24%',\n      '336.44% / 420.23%',\n      '357.25% / 446.23%',\n      '378.06% / 472.22%',\n      '398.87% / 498.21%']}]},\n  {'_id': 10912,\n   'id': 'CeremonialCrystalshot',\n   'name': 'Ceremonial Crystalshot',\n   'description': 'When a character in the party obtains an Elemental Shard created from the Crystallize reaction, Navia will gain 1 Crystal Shrapnel stack. Navia can have up to 6 stacks of Crystal Shrapnel at once. Each time Crystal Shrapnel gain is triggered, the duration of the Crystal Shrapnel stacks you already have will be reset.When she fires, Navia will consume all Crystal Shrapnel stacks and open her elegant yet lethal Gunbrella, firing multiple Rosula Shardshots that can penetrate opponents, dealing Geo DMG to opponents hit.When 0/1/2/3 or more stacks of Crystal Shrapnel are consumed, 5/7/9/11 Rosula Shardshots will be fired respectively. The more Rosula Shardshots that strike a single opponent, the greater the DMG dealt to them. When all 11 Rosula Shardshots strike, 200% of the original amount of DMG is dealt.In addition, when more than 3 stacks of Crystal Shrapnel are consumed, every stack consumed beyond those 3 will increase the DMG dealt by this Gunbrella attack by an additional 15%.HoldEnter Aiming Mode, continually collecting nearby Elemental Shards created by Crystallize reactions. When released, fire Rosula Shardshots with the same effect as when the skill is Tapped.Two initial charges.Arkhe: OusiaPeriodically, when Navia fires her Gunbrella, a Surging Blade will be summoned, dealing Ousia-aligned Geo DMG.',\n   'info': '\"Maintaining the appropriate distance with those whom distance should be maintained is an essential part of etiquette. Naturally, there are also many ways to do this...\"',\n   'attributes': [{'label': 'Rosula Shardshot Base DMG',\n     'values': ['394.8%',\n      '424.41%',\n      '454.02%',\n      '493.5%',\n      '523.11%',\n      '552.72%',\n      '592.2%',\n      '631.68%',\n      '671.16%',\n      '710.64%',\n      '750.12%',\n      '789.6%',\n      '838.95%',\n      '888.3%',\n      '937.65%']},\n    {'label': 'Crystal Shrapnel Duration',\n     'values': ['300s',\n      '300s',\n      '300s',\n      '300s',\n      '300s',\n      '300s',\n      '300s',\n      '300s',\n      '300s',\n      '300s',\n      '300s',\n      '300s',\n      '300s',\n      '300s',\n      '300s']},\n    {'label': 'Surging Blade DMG',\n     'values': ['36%',\n      '38.7%',\n      '41.4%',\n      '45%',\n      '47.7%',\n      '50.4%',\n      '54%',\n      '57.6%',\n      '61.2%',\n      '64.8%',\n      '68.4%',\n      '72%',\n      '76.5%',\n      '81%',\n      '85.5%']},\n    {'label': 'Surging Blade Interval',\n     'values': ['7s',\n      '7s',\n      '7s',\n      '7s',\n      '7s',\n      '7s',\n      '7s',\n      '7s',\n      '7s',\n      '7s',\n      '7s',\n      '7s',\n      '7s',\n      '7s',\n      '7s']},\n    {'label': 'CD',\n     'values': ['9s',\n      '9s',\n      '9s',\n      '9s',\n      '9s',\n      '9s',\n      '9s',\n      '9s',\n      '9s',\n      '9s',\n      '9s',\n      '9s',\n      '9s',\n      '9s',\n      '9s']}]},\n  {'_id': 10915,\n   'id': 'AsTheSunlitSkysSingingSalute',\n   'name': \"As the Sunlit Sky's Singing Salute\",\n   'description': 'On the orders of the President of the Spina di Rosula, call for a magnificent Rosula Dorata Salute. Unleashes a massive cannon bombardment on opponents in front of her, dealing AoE Geo DMG and providing Cannon Fire Support for a duration afterward, periodically dealing Geo DMG to nearby opponents.When cannon attacks hit opponents, Navia will gain 1 stack of Crystal Shrapnel. This effect can be triggered up to once every 2.4s.',\n   'info': '\"The Spina di Rosula\\'s salute is a preemptive celebration of the successful conclusion of our negotiations and is fired just before talks begin. Don\\'t misunderstand, it isn\\'t in any way, shape, or form some kind of threat.\"',\n   'attributes': [{'label': 'Skill DMG',\n     'values': ['75.2%',\n      '80.84%',\n      '86.48%',\n      '94%',\n      '99.64%',\n      '105.28%',\n      '112.8%',\n      '120.32%',\n      '127.84%',\n      '135.36%',\n      '142.88%',\n      '150.4%',\n      '159.8%',\n      '169.2%',\n      '178.6%']},\n    {'label': 'Cannon Fire Support DMG',\n     'values': ['43.15%',\n      '46.39%',\n      '49.62%',\n      '53.94%',\n      '57.17%',\n      '60.41%',\n      '64.72%',\n      '69.04%',\n      '73.36%',\n      '77.67%',\n      '81.99%',\n      '86.3%',\n      '91.69%',\n      '97.09%',\n      '102.48%']},\n    {'label': 'Cannon Fire Support Duration',\n     'values': ['12s',\n      '12s',\n      '12s',\n      '12s',\n      '12s',\n      '12s',\n      '12s',\n      '12s',\n      '12s',\n      '12s',\n      '12s',\n      '12s',\n      '12s',\n      '12s',\n      '12s']},\n    {'label': 'CD',\n     'values': ['15s',\n      '15s',\n      '15s',\n      '15s',\n      '15s',\n      '15s',\n      '15s',\n      '15s',\n      '15s',\n      '15s',\n      '15s',\n      '15s',\n      '15s',\n      '15s',\n      '15s']},\n    {'label': 'Energy Cost',\n     'values': ['60',\n      '60',\n      '60',\n      '60',\n      '60',\n      '60',\n      '60',\n      '60',\n      '60',\n      '60',\n      '60',\n      '60',\n      '60',\n      '60',\n      '60']}]}],\n 'passives': [{'id': 'UndisclosedDistributionChannels',\n   'name': 'Undisclosed Distribution Channels',\n   'description': \"For 4s after using Ceremonial Crystalshot, the DMG dealt by Navia's Normal Attacks, Charged Attacks, and Plunging Attacks will be converted into Geo DMG which cannot be overridden by other Elemental infusions, and the DMG dealt by Navia's Normal Attacks, Charged Attacks, and Plunging Attacks will be increased by 40%.\",\n   'level': 1},\n  {'id': 'MutualAssistanceNetwork',\n   'name': 'Mutual Assistance Network',\n   'description': 'For each Pyro/Electro/Cryo/Hydro party member, Navia gains 20% increased ATK. This effect can stack up to 2 times.',\n   'level': 4},\n  {'id': 'PainstakingTransaction',\n   'name': 'Painstaking Transaction',\n   'description': 'Gains 25% more rewards when dispatched on a Fontaine Expedition for 20 hours.',\n   'level': 0}],\n 'constellations': [{'_id': 911,\n   'id': 'ALadysRulesForKeepingACourteousDistance',\n   'name': \"A Lady's Rules for Keeping a Courteous Distance\",\n   'description': 'Each stack of Crystal Shrapnel consumed when Navia uses Ceremonial Crystalshot will restore 3 Energy to her and decrease the CD of As the Sunlit Sky\\'s Singing Salute by 1s. Up to 9 Energy can be gained this way, and the CD of \"As the Sunlit Sky\\'s Singing Salute\" can be decreased by up to 3s.',\n   'level': 1},\n  {'_id': 912,\n   'id': 'ThePresidentsPursuitOfVictory',\n   'name': \"The President's Pursuit of Victory\",\n   'description': \"Each stack of Crystal Shrapnel consumed will increase the CRIT Rate of this Ceremonial Crystalshot instance by 12%. CRIT Rate can be increased by up to 36% in this way.In addition, when Ceremonial Crystalshot hits an opponent, one Cannon Fire Support shot from As the Sunlit Sky's Singing Salute will strike near the location of the hit. Up to one instance of Cannon Fire Support can be triggered each time Ceremonial Crystalshot is used, and DMG dealt by said Cannon Fire Support this way is considered Elemental Burst DMG.\",\n   'level': 2},\n  {'_id': 913,\n   'id': 'BusinesswomansBroadVision',\n   'name': \"Businesswoman's Broad Vision\",\n   'description': 'Increases the Level of Ceremonial Crystalshot by 3.Maximum upgrade level is 15.',\n   'level': 3},\n  {'_id': 914,\n   'id': 'TheOathswornNeverCapitulate',\n   'name': 'The Oathsworn Never Capitulate',\n   'description': \"When As the Sunlit Sky's Singing Salute hits an opponent, that opponent's Geo RES will be decreased by 20% for 8s.\",\n   'level': 4},\n  {'_id': 915,\n   'id': 'NegotiatorsResoluteNegotiations',\n   'name': \"Negotiator's Resolute Negotiations\",\n   'description': \"Increases the Level of As the Sunlit Sky's Singing Salute by 3.Maximum upgrade level is 15.\",\n   'level': 5},\n  {'_id': 916,\n   'id': 'TheFlexibleFinesseOfTheSpinasPresident',\n   'name': \"The Flexible Finesse of the Spina's President\",\n   'description': 'If more than 3 stacks of Crystal Shrapnel are consumed when using Ceremonial Crystalshot, each stack consumed beyond the first 3 increases the CRIT DMG of that Ceremonial Crystalshot by 45%, and any stacks consumed beyond the first 3 are returned to Navia.',\n   'level': 6}],\n 'ascension': [{'level': [1],\n   'stats': [{'label': 'Ascend', 'values': ['-', 1]},\n    {'label': 'Base HP', 'values': ['-', '985']},\n    {'label': 'Base ATK', 'values': ['-', '27']},\n    {'label': 'Base DEF', 'values': ['-', '62']},\n    {'label': 'CRIT DMG', 'values': ['-', '50.0%']}]},\n  {'level': [20],\n   'stats': [{'label': 'Ascend', 'values': [0, 1]},\n    {'label': 'Base HP', 'values': ['2555', '3399']},\n    {'label': 'Base ATK', 'values': ['71', '94']},\n    {'label': 'Base DEF', 'values': ['160', '213']},\n    {'label': 'CRIT DMG', 'values': ['50.0%', '50.0%']}]},\n  {'level': [40],\n   'cost': 20000,\n   'stats': [{'label': 'Ascend', 'values': [1, 2]},\n    {'label': 'Base HP', 'values': ['5086', '5686']},\n    {'label': 'Base ATK', 'values': ['141', '158']},\n    {'label': 'Base DEF', 'values': ['319', '356']},\n    {'label': 'CRIT DMG', 'values': ['50.0%', '59.6%']}],\n   'mat1': {'_id': 104171,\n    'id': 'PrithivaTopazSliver',\n    'name': 'Prithiva Topaz Sliver',\n    'amount': 1,\n    'rarity': 2},\n   'mat3': {'_id': 101240,\n    'id': 'SpringOfTheFirstDewdrop',\n    'name': 'Spring of the First Dewdrop',\n    'amount': 3,\n    'rarity': 1},\n   'mat4': {'_id': 112080,\n    'id': 'TransoceanicPearl',\n    'name': 'Transoceanic Pearl',\n    'amount': 3,\n    'rarity': 1}},\n  {'level': [50],\n   'cost': 40000,\n   'stats': [{'label': 'Ascend', 'values': [2, 3]},\n    {'label': 'Base HP', 'values': ['6542', '7341']},\n    {'label': 'Base ATK', 'values': ['182', '204']},\n    {'label': 'Base DEF', 'values': ['410', '460']},\n    {'label': 'CRIT DMG', 'values': ['59.6%', '69.2%']}],\n   'mat1': {'_id': 104172,\n    'id': 'PrithivaTopazFragment',\n    'name': 'Prithiva Topaz Fragment',\n    'amount': 3,\n    'rarity': 3},\n   'mat2': {'_id': 113050,\n    'id': 'ArtificedSpareClockworkComponentCoppelius',\n    'name': 'Artificed Spare Clockwork Component — Coppelius',\n    'amount': 2,\n    'rarity': 4},\n   'mat3': {'_id': 101240,\n    'id': 'SpringOfTheFirstDewdrop',\n    'name': 'Spring of the First Dewdrop',\n    'amount': 10,\n    'rarity': 1},\n   'mat4': {'_id': 112080,\n    'id': 'TransoceanicPearl',\n    'name': 'Transoceanic Pearl',\n    'amount': 15,\n    'rarity': 1}},\n  {'level': [60],\n   'cost': 60000,\n   'stats': [{'label': 'Ascend', 'values': [3, 4]},\n    {'label': 'Base HP', 'values': ['8206', '8806']},\n    {'label': 'Base ATK', 'values': ['228', '245']},\n    {'label': 'Base DEF', 'values': ['515', '552']},\n    {'label': 'CRIT DMG', 'values': ['69.2%', '69.2%']}],\n   'mat1': {'_id': 104172,\n    'id': 'PrithivaTopazFragment',\n    'name': 'Prithiva Topaz Fragment',\n    'amount': 6,\n    'rarity': 3},\n   'mat2': {'_id': 113050,\n    'id': 'ArtificedSpareClockworkComponentCoppelius',\n    'name': 'Artificed Spare Clockwork Component — Coppelius',\n    'amount': 4,\n    'rarity': 4},\n   'mat3': {'_id': 101240,\n    'id': 'SpringOfTheFirstDewdrop',\n    'name': 'Spring of the First Dewdrop',\n    'amount': 20,\n    'rarity': 1},\n   'mat4': {'_id': 112081,\n    'id': 'TransoceanicChunk',\n    'name': 'Transoceanic Chunk',\n    'amount': 12,\n    'rarity': 2}},\n  {'level': [70],\n   'cost': 80000,\n   'stats': [{'label': 'Ascend', 'values': [4, 5]},\n    {'label': 'Base HP', 'values': ['9679', '10278']},\n    {'label': 'Base ATK', 'values': ['269', '286']},\n    {'label': 'Base DEF', 'values': ['607', '644']},\n    {'label': 'CRIT DMG', 'values': ['69.2%', '78.8%']}],\n   'mat1': {'_id': 104173,\n    'id': 'PrithivaTopazChunk',\n    'name': 'Prithiva Topaz Chunk',\n    'amount': 3,\n    'rarity': 4},\n   'mat2': {'_id': 113050,\n    'id': 'ArtificedSpareClockworkComponentCoppelius',\n    'name': 'Artificed Spare Clockwork Component — Coppelius',\n    'amount': 8,\n    'rarity': 4},\n   'mat3': {'_id': 101240,\n    'id': 'SpringOfTheFirstDewdrop',\n    'name': 'Spring of the First Dewdrop',\n    'amount': 30,\n    'rarity': 1},\n   'mat4': {'_id': 112081,\n    'id': 'TransoceanicChunk',\n    'name': 'Transoceanic Chunk',\n    'amount': 18,\n    'rarity': 2}},\n  {'level': [80],\n   'cost': 100000,\n   'stats': [{'label': 'Ascend', 'values': [5, 6]},\n    {'label': 'Base HP', 'values': ['11161', '11761']},\n    {'label': 'Base ATK', 'values': ['310', '327']},\n    {'label': 'Base DEF', 'values': ['700', '737']},\n    {'label': 'CRIT DMG', 'values': ['78.8%', '88.4%']}],\n   'mat1': {'_id': 104173,\n    'id': 'PrithivaTopazChunk',\n    'name': 'Prithiva Topaz Chunk',\n    'amount': 6,\n    'rarity': 4},\n   'mat2': {'_id': 113050,\n    'id': 'ArtificedSpareClockworkComponentCoppelius',\n    'name': 'Artificed Spare Clockwork Component — Coppelius',\n    'amount': 12,\n    'rarity': 4},\n   'mat3': {'_id': 101240,\n    'id': 'SpringOfTheFirstDewdrop',\n    'name': 'Spring of the First Dewdrop',\n    'amount': 45,\n    'rarity': 1},\n   'mat4': {'_id': 112082,\n    'id': 'XenochromaticCrystal',\n    'name': 'Xenochromatic Crystal',\n    'amount': 12,\n    'rarity': 3}},\n  {'level': [90],\n   'cost': 120000,\n   'stats': [{'label': 'Ascend', 'values': [6, 7]},\n    {'label': 'Base HP', 'values': ['12650', '12650']},\n    {'label': 'Base ATK', 'values': ['352', '352']},\n    {'label': 'Base DEF', 'values': ['793', '793']},\n    {'label': 'CRIT DMG', 'values': ['88.4%', '88.4%']}],\n   'mat1': {'_id': 104174,\n    'id': 'PrithivaTopazGemstone',\n    'name': 'Prithiva Topaz Gemstone',\n    'amount': 6,\n    'rarity': 5},\n   'mat2': {'_id': 113050,\n    'id': 'ArtificedSpareClockworkComponentCoppelius',\n    'name': 'Artificed Spare Clockwork Component — Coppelius',\n    'amount': 20,\n    'rarity': 4},\n   'mat3': {'_id': 101240,\n    'id': 'SpringOfTheFirstDewdrop',\n    'name': 'Spring of the First Dewdrop',\n    'amount': 60,\n    'rarity': 1},\n   'mat4': {'_id': 112082,\n    'id': 'XenochromaticCrystal',\n    'name': 'Xenochromatic Crystal',\n    'amount': 24,\n    'rarity': 3}}],\n 'talentMaterials': [{'level': 2,\n   'cost': 12500,\n   'items': [{'_id': 104338,\n     'id': 'TeachingsOfEquity',\n     'name': 'Teachings of Equity',\n     'amount': 3,\n     'rarity': 2},\n    {'_id': 112080,\n     'id': 'TransoceanicPearl',\n     'name': 'Transoceanic Pearl',\n     'amount': 6,\n     'rarity': 1}]},\n  {'level': 3,\n   'cost': 17500,\n   'items': [{'_id': 104339,\n     'id': 'GuideToEquity',\n     'name': 'Guide to Equity',\n     'amount': 2,\n     'rarity': 3},\n    {'_id': 112081,\n     'id': 'TransoceanicChunk',\n     'name': 'Transoceanic Chunk',\n     'amount': 3,\n     'rarity': 2}]},\n  {'level': 4,\n   'cost': 25000,\n   'items': [{'_id': 104339,\n     'id': 'GuideToEquity',\n     'name': 'Guide to Equity',\n     'amount': 4,\n     'rarity': 3},\n    {'_id': 112081,\n     'id': 'TransoceanicChunk',\n     'name': 'Transoceanic Chunk',\n     'amount': 4,\n     'rarity': 2}]},\n  {'level': 5,\n   'cost': 30000,\n   'items': [{'_id': 104339,\n     'id': 'GuideToEquity',\n     'name': 'Guide to Equity',\n     'amount': 6,\n     'rarity': 3},\n    {'_id': 112081,\n     'id': 'TransoceanicChunk',\n     'name': 'Transoceanic Chunk',\n     'amount': 6,\n     'rarity': 2}]},\n  {'level': 6,\n   'cost': 37500,\n   'items': [{'_id': 104339,\n     'id': 'GuideToEquity',\n     'name': 'Guide to Equity',\n     'amount': 9,\n     'rarity': 3},\n    {'_id': 112081,\n     'id': 'TransoceanicChunk',\n     'name': 'Transoceanic Chunk',\n     'amount': 9,\n     'rarity': 2}]},\n  {'level': 7,\n   'cost': 120000,\n   'items': [{'_id': 104340,\n     'id': 'PhilosophiesOfEquity',\n     'name': 'Philosophies of Equity',\n     'amount': 4,\n     'rarity': 4},\n    {'_id': 112082,\n     'id': 'XenochromaticCrystal',\n     'name': 'Xenochromatic Crystal',\n     'amount': 4,\n     'rarity': 3},\n    {'_id': 113054,\n     'id': 'LightlessSilkString',\n     'name': 'Lightless Silk String',\n     'amount': 1,\n     'rarity': 5}]},\n  {'level': 8,\n   'cost': 260000,\n   'items': [{'_id': 104340,\n     'id': 'PhilosophiesOfEquity',\n     'name': 'Philosophies of Equity',\n     'amount': 6,\n     'rarity': 4},\n    {'_id': 112082,\n     'id': 'XenochromaticCrystal',\n     'name': 'Xenochromatic Crystal',\n     'amount': 6,\n     'rarity': 3},\n    {'_id': 113054,\n     'id': 'LightlessSilkString',\n     'name': 'Lightless Silk String',\n     'amount': 1,\n     'rarity': 5}]},\n  {'level': 9,\n   'cost': 450000,\n   'items': [{'_id': 104340,\n     'id': 'PhilosophiesOfEquity',\n     'name': 'Philosophies of Equity',\n     'amount': 12,\n     'rarity': 4},\n    {'_id': 112082,\n     'id': 'XenochromaticCrystal',\n     'name': 'Xenochromatic Crystal',\n     'amount': 9,\n     'rarity': 3},\n    {'_id': 113054,\n     'id': 'LightlessSilkString',\n     'name': 'Lightless Silk String',\n     'amount': 2,\n     'rarity': 5}]},\n  {'level': 10,\n   'cost': 700000,\n   'items': [{'_id': 104340,\n     'id': 'PhilosophiesOfEquity',\n     'name': 'Philosophies of Equity',\n     'amount': 16,\n     'rarity': 4},\n    {'_id': 112082,\n     'id': 'XenochromaticCrystal',\n     'name': 'Xenochromatic Crystal',\n     'amount': 12,\n     'rarity': 3},\n    {'_id': 113054,\n     'id': 'LightlessSilkString',\n     'name': 'Lightless Silk String',\n     'amount': 2,\n     'rarity': 5},\n    {'_id': 104319,\n     'id': 'CrownOfInsight',\n     'name': 'Crown of Insight',\n     'amount': 1,\n     'rarity': 5}]}]}"
					},
					"execution_count": 11,
					"metadata": {},
					"output_type": "execute_result"
				}
			],
			"source": [
				"def traverse(dat):\n",
				"    if isinstance(dat, list):\n",
				"        for x in dat:\n",
				"            if isinstance(x, (list, dict)):\n",
				"                traverse(x)\n",
				"    elif isinstance(dat, dict):\n",
				"        for k, v in dat.items():\n",
				"            if k == \"id\":\n",
				"                dat[\"id\"] = pascal(dat[\"id\"])\n",
				"                # print(dat[\"id\"])\n",
				"            elif isinstance(v, (list, dict)):\n",
				"                traverse(v)\n",
				"\n",
				"traverse(navia)\n",
				"navia"
			],
			"metadata": {
				"collapsed": false,
				"pycharm": {
					"name": "#%%\n"
				}
			}
		},
		{
			"cell_type": "code",
			"execution_count": 1,
			"outputs": [
				{
					"name": "stdout",
					"output_type": "stream",
					"text": [
						"Language: ../data/DE\n",
						"Language: ../data/EN\n",
						"Language: ../data/ES\n",
						"Language: ../data/FR\n",
						"Language: ../data/ID\n",
						"Language: ../data/IT\n",
						"Language: ../data/JP\n",
						"Language: ../data/KO\n",
						"Language: ../data/PT\n",
						"Language: ../data/RU\n",
						"Language: ../data/TH\n",
						"Language: ../data/TR\n",
						"Language: ../data/VI\n",
						"Language: ../data/ZH-S\n",
						"Language: ../data/ZH-T\n"
					]
				}
			],
			"source": [
				"import json\n",
				"import os\n",
				"\n",
				"def pascal(string):\n",
				"    if not isinstance(string, str):\n",
				"        return string\n",
				"    words = string.split(\"_\")\n",
				"    if len(words) == 1:\n",
				"        return string[0].capitalize() + string[1:]\n",
				"    numerals = {\"i\":\"1\", \"ii\":\"2\", \"iii\":\"3\", \"iv\":\"4\", \"v\":\"5\", \"vi\":\"6\", \"vii\":\"7\", \"viii\":\"8\"}\n",
				"    if words[len(words) - 1] in numerals:\n",
				"        words[len(words) - 1] = numerals[words[len(words) - 1]]\n",
				"    return \"\".join(word.capitalize() for word in words)\n",
				"\n",
				"def traverse(dat):\n",
				"    if isinstance(dat, list):\n",
				"        for x in dat:\n",
				"            if isinstance(x, (list, dict)):\n",
				"                traverse(x)\n",
				"    elif isinstance(dat, dict):\n",
				"        for k, v in dat.items():\n",
				"            if k == \"id\":\n",
				"                dat[\"id\"] = pascal(dat[\"id\"])\n",
				"                # print(dat[\"id\"])\n",
				"            elif k == \"ids\":\n",
				"                for i, name in enumerate(dat[\"ids\"]):\n",
				"                    dat[\"ids\"][i] = pascal(name)\n",
				"            elif isinstance(v, (list, dict)):\n",
				"                traverse(v)\n",
				"\n",
				"def pascalChar(char_path):\n",
				"    with open(char_path, \"r\", encoding=\"utf-8\") as f:\n",
				"        char = json.load(f)\n",
				"\n",
				"    traverse(char)\n",
				"\n",
				"    with open(char_path, \"w\", encoding=\"utf-8\") as f:\n",
				"        json.dump(char, f, ensure_ascii=False, indent=\"\\t\")\n",
				"\n",
				"data_dir = \"../data/\"\n",
				"\n",
				"for lang_dir in os.listdir(data_dir):\n",
				"    lang_path = os.path.join(data_dir, lang_dir)\n",
				"\n",
				"    if os.path.isdir(lang_path):\n",
				"        print(f\"Language: {lang_path}\")\n",
				"        pascalChar(os.path.join(lang_path, \"domains.json\"))\n",
				"        subdirs = [\"AchievementCategory\"]\n",
				"        #subdirs = [\"Artifact\", \"Bait\", \"Fish\", \"FishingRod\", \"Food\", \"Furnishing\", \"Ingredient\", \"Potion\", \"TCGActionCard\", \"TCGCharacterCard\", \"TCGMonsterCard\"]\n",
				"        #subdirs = [\"CharacterExpMaterial\", \"CommonMaterial\", \"ElementalStoneMaterial\", \"JewelsMaterial\", \"LocalMaterial\", \"TalentLvlUpMaterial\", \"WeaponEnhancementMaterial\", \"WeaponPrimaryMaterial\", \"WeaponSecondaryMaterial\"]\n",
				"        for subdir in subdirs:\n",
				"            chars_path = os.path.join(lang_path, subdir)\n",
				"            print(f\"  Subdir: {subdir}\")\n",
				"            for root, dirs, files in os.walk(chars_path):\n",
				"                for char in files:\n",
				"                    char_path = os.path.join(root, char)\n",
				"                    try:\n",
				"                        pascalChar(char_path)\n",
				"                    except Exception as error:\n",
				"                        print(f\"    Pascal FAILED File: {char_path}\")\n",
				"                        print(f\"    ERROR: {error}\")\n",
				"                        exit()"
			],
			"metadata": {
				"collapsed": false,
				"pycharm": {
					"name": "#%%\n"
				}
			}
		},
		{
			"cell_type": "code",
			"execution_count": 3,
			"outputs": [
				{
					"name": "stdout",
					"output_type": "stream",
					"text": [
						"Language: ../data/DE\n",
						"  Subdir: AchievementCategory\n",
						"Language: ../data/EN\n",
						"  Subdir: AchievementCategory\n",
						"Language: ../data/ES\n",
						"  Subdir: AchievementCategory\n",
						"Language: ../data/FR\n",
						"  Subdir: AchievementCategory\n",
						"Language: ../data/ID\n",
						"  Subdir: AchievementCategory\n",
						"Language: ../data/IT\n",
						"  Subdir: AchievementCategory\n",
						"Language: ../data/JP\n",
						"  Subdir: AchievementCategory\n",
						"Language: ../data/KO\n",
						"  Subdir: AchievementCategory\n",
						"Language: ../data/PT\n",
						"  Subdir: AchievementCategory\n",
						"Language: ../data/RU\n",
						"  Subdir: AchievementCategory\n",
						"Language: ../data/TH\n",
						"  Subdir: AchievementCategory\n",
						"Language: ../data/TR\n",
						"  Subdir: AchievementCategory\n",
						"Language: ../data/VI\n",
						"  Subdir: AchievementCategory\n",
						"Language: ../data/ZH-S\n",
						"  Subdir: AchievementCategory\n",
						"Language: ../data/ZH-T\n",
						"  Subdir: AchievementCategory\n"
					]
				}
			],
			"source": [
				"import os\n",
				"import re\n",
				"\n",
				"data_dir = \"../data/\"\n",
				"\n",
				"for lang_dir in os.listdir(data_dir):\n",
				"    lang_path = os.path.join(data_dir, lang_dir)\n",
				"\n",
				"    if os.path.isdir(lang_path):\n",
				"        print(f\"Language: {lang_path}\")\n",
				"        #pascalChar(os.path.join(lang_path, \"domains.json\"))\n",
				"        subdirs = [\"AchievementCategory\"]\n",
				"        #subdirs = [\"Artifact\", \"Bait\", \"Fish\", \"FishingRod\", \"Food\", \"Furnishing\", \"Ingredient\", \"Potion\", \"TCGActionCard\", \"TCGCharacterCard\", \"TCGMonsterCard\"]\n",
				"        #subdirs = [\"CharacterExpMaterial\", \"CommonMaterial\", \"ElementalStoneMaterial\", \"JewelsMaterial\", \"LocalMaterial\", \"TalentLvlUpMaterial\", \"WeaponEnhancementMaterial\", \"WeaponPrimaryMaterial\", \"WeaponSecondaryMaterial\"]\n",
				"        for subdir in subdirs:\n",
				"            chars_path = os.path.join(lang_path, subdir)\n",
				"            print(f\"  Subdir: {subdir}\")\n",
				"            for root, dirs, files in os.walk(chars_path):\n",
				"                for char in files:\n",
				"                    char_path = os.path.join(root, char)\n",
				"                    try:\n",
				"                        file_name = re.findall(\"[A-Z][^A-Z]*\", char)\n",
				"                        #print(file_name)\n",
				"                        numerals = {\"I.json\":\"1.json\", \"Ii.json\":\"2.json\", \"Iii.json\":\"3.json\", \"Iv.json\":\"4.json\", \"V.json\":\"5.json\", \"Vi.json\":\"6.json\", \"Vii.json\":\"7.json\", \"Viii.json\":\"8.json\"}\n",
				"                        if file_name[len(file_name) - 1] in numerals:\n",
				"                            file_name[len(file_name) - 1] = numerals[file_name[len(file_name) - 1]]\n",
				"                        os.rename(char_path, os.path.join(root, \"\".join(file_name)))\n",
				"                    except Exception as error:\n",
				"                        print(f\"    Pascal FAILED File: {char_path}\")\n",
				"                        print(f\"    ERROR: {error}\")\n",
				"                        exit()"
			],
			"metadata": {
				"collapsed": false,
				"pycharm": {
					"name": "#%%\n"
				}
			}
		}
	],
	"metadata": {
		"kernelspec": {
			"display_name": "Python 3",
			"language": "python",
			"name": "python3"
		},
		"language_info": {
			"codemirror_mode": {
				"name": "ipython",
				"version": 2
			},
			"file_extension": ".py",
			"mimetype": "text/x-python",
			"name": "python",
			"nbconvert_exporter": "python",
			"pygments_lexer": "ipython2",
			"version": "2.7.6"
		}
	},
	"nbformat": 4,
	"nbformat_minor": 0
}
